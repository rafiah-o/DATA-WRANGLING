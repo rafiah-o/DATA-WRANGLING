{
 "cells": [
  {
   "cell_type": "markdown",
   "metadata": {},
   "source": [
    "# Install all necessary libraries"
   ]
  },
  {
   "cell_type": "code",
   "execution_count": 1,
   "metadata": {},
   "outputs": [],
   "source": [
    "import pandas as pd\n",
    "import numpy as np\n",
    "import requests\n",
    "import json\n"
   ]
  },
  {
   "cell_type": "markdown",
   "metadata": {},
   "source": [
    "# Gather\n",
    "This entails bringing in the datasets required for this analysis"
   ]
  },
  {
   "cell_type": "code",
   "execution_count": 2,
   "metadata": {},
   "outputs": [],
   "source": [
    "#Bring in the provided csv file for the twitter archive\n",
    "\n",
    "ta = pd.read_csv(\"C:/Users/fasasio/OneDrive - Access Bank PLC/Downloads/twitter-archive-enhanced.csv\")"
   ]
  },
  {
   "cell_type": "code",
   "execution_count": 3,
   "metadata": {},
   "outputs": [],
   "source": [
    "#Bring in the tweet_json text file\n",
    "\n",
    "tj = pd.read_json(\"C:/Users/fasasio/OneDrive - Access Bank PLC/Desktop/tweet-json.txt\",lines=True)"
   ]
  },
  {
   "cell_type": "code",
   "execution_count": 4,
   "metadata": {},
   "outputs": [],
   "source": [
    "#Bring in the tweet image predictions text file\n",
    "\n",
    "url = 'https://d17h27t6h515a5.cloudfront.net/topher/2017/August/599fd2ad_image-predictions/image-predictions.tsv'\n",
    "response = requests.get(url)\n",
    "\n",
    "with open(\"image-predictions.tsv\", mode='wb') as file:\n",
    "    file.write(response.content)\n",
    "\n",
    "ip = pd.read_csv(\"image-predictions.tsv\",sep = '\\t')"
   ]
  },
  {
   "cell_type": "markdown",
   "metadata": {},
   "source": [
    "# Assess\n",
    "This entails checking the quality and tidiness of the datasets"
   ]
  },
  {
   "cell_type": "markdown",
   "metadata": {},
   "source": [
    "Data 1: Twitter Archive (ta)"
   ]
  },
  {
   "cell_type": "code",
   "execution_count": 5,
   "metadata": {},
   "outputs": [
    {
     "data": {
      "text/html": [
       "<div>\n",
       "<style scoped>\n",
       "    .dataframe tbody tr th:only-of-type {\n",
       "        vertical-align: middle;\n",
       "    }\n",
       "\n",
       "    .dataframe tbody tr th {\n",
       "        vertical-align: top;\n",
       "    }\n",
       "\n",
       "    .dataframe thead th {\n",
       "        text-align: right;\n",
       "    }\n",
       "</style>\n",
       "<table border=\"1\" class=\"dataframe\">\n",
       "  <thead>\n",
       "    <tr style=\"text-align: right;\">\n",
       "      <th></th>\n",
       "      <th>tweet_id</th>\n",
       "      <th>in_reply_to_status_id</th>\n",
       "      <th>in_reply_to_user_id</th>\n",
       "      <th>timestamp</th>\n",
       "      <th>source</th>\n",
       "      <th>text</th>\n",
       "      <th>retweeted_status_id</th>\n",
       "      <th>retweeted_status_user_id</th>\n",
       "      <th>retweeted_status_timestamp</th>\n",
       "      <th>expanded_urls</th>\n",
       "      <th>rating_numerator</th>\n",
       "      <th>rating_denominator</th>\n",
       "      <th>name</th>\n",
       "      <th>doggo</th>\n",
       "      <th>floofer</th>\n",
       "      <th>pupper</th>\n",
       "      <th>puppo</th>\n",
       "    </tr>\n",
       "  </thead>\n",
       "  <tbody>\n",
       "    <tr>\n",
       "      <th>1292</th>\n",
       "      <td>708109389455101952</td>\n",
       "      <td>NaN</td>\n",
       "      <td>NaN</td>\n",
       "      <td>2016-03-11 01:56:49 +0000</td>\n",
       "      <td>&lt;a href=\"http://twitter.com/download/iphone\" r...</td>\n",
       "      <td>This is Remington. He was caught off guard by ...</td>\n",
       "      <td>NaN</td>\n",
       "      <td>NaN</td>\n",
       "      <td>NaN</td>\n",
       "      <td>https://twitter.com/dog_rates/status/708109389...</td>\n",
       "      <td>10</td>\n",
       "      <td>10</td>\n",
       "      <td>Remington</td>\n",
       "      <td>None</td>\n",
       "      <td>None</td>\n",
       "      <td>None</td>\n",
       "      <td>None</td>\n",
       "    </tr>\n",
       "    <tr>\n",
       "      <th>97</th>\n",
       "      <td>873337748698140672</td>\n",
       "      <td>NaN</td>\n",
       "      <td>NaN</td>\n",
       "      <td>2017-06-10 00:35:19 +0000</td>\n",
       "      <td>&lt;a href=\"http://twitter.com/download/iphone\" r...</td>\n",
       "      <td>RT @dog_rates: This is Sierra. She's one preci...</td>\n",
       "      <td>8.732138e+17</td>\n",
       "      <td>4.196984e+09</td>\n",
       "      <td>2017-06-09 16:22:42 +0000</td>\n",
       "      <td>https://www.gofundme.com/help-my-baby-sierra-g...</td>\n",
       "      <td>12</td>\n",
       "      <td>10</td>\n",
       "      <td>Sierra</td>\n",
       "      <td>None</td>\n",
       "      <td>None</td>\n",
       "      <td>pupper</td>\n",
       "      <td>None</td>\n",
       "    </tr>\n",
       "    <tr>\n",
       "      <th>93</th>\n",
       "      <td>874057562936811520</td>\n",
       "      <td>NaN</td>\n",
       "      <td>NaN</td>\n",
       "      <td>2017-06-12 00:15:36 +0000</td>\n",
       "      <td>&lt;a href=\"http://twitter.com/download/iphone\" r...</td>\n",
       "      <td>I can't believe this keeps happening. This, is...</td>\n",
       "      <td>NaN</td>\n",
       "      <td>NaN</td>\n",
       "      <td>NaN</td>\n",
       "      <td>https://twitter.com/dog_rates/status/874057562...</td>\n",
       "      <td>12</td>\n",
       "      <td>10</td>\n",
       "      <td>None</td>\n",
       "      <td>None</td>\n",
       "      <td>None</td>\n",
       "      <td>None</td>\n",
       "      <td>None</td>\n",
       "    </tr>\n",
       "    <tr>\n",
       "      <th>147</th>\n",
       "      <td>863432100342583297</td>\n",
       "      <td>NaN</td>\n",
       "      <td>NaN</td>\n",
       "      <td>2017-05-13 16:33:49 +0000</td>\n",
       "      <td>&lt;a href=\"http://twitter.com/download/iphone\" r...</td>\n",
       "      <td>This is Belle. She's never been more pupset. E...</td>\n",
       "      <td>NaN</td>\n",
       "      <td>NaN</td>\n",
       "      <td>NaN</td>\n",
       "      <td>https://twitter.com/dog_rates/status/863432100...</td>\n",
       "      <td>12</td>\n",
       "      <td>10</td>\n",
       "      <td>Belle</td>\n",
       "      <td>None</td>\n",
       "      <td>None</td>\n",
       "      <td>None</td>\n",
       "      <td>None</td>\n",
       "    </tr>\n",
       "    <tr>\n",
       "      <th>1605</th>\n",
       "      <td>685681090388975616</td>\n",
       "      <td>6.855479e+17</td>\n",
       "      <td>4.196984e+09</td>\n",
       "      <td>2016-01-09 04:34:45 +0000</td>\n",
       "      <td>&lt;a href=\"http://twitter.com/download/iphone\" r...</td>\n",
       "      <td>Jack deserves another round of applause. If yo...</td>\n",
       "      <td>NaN</td>\n",
       "      <td>NaN</td>\n",
       "      <td>NaN</td>\n",
       "      <td>NaN</td>\n",
       "      <td>14</td>\n",
       "      <td>10</td>\n",
       "      <td>None</td>\n",
       "      <td>None</td>\n",
       "      <td>None</td>\n",
       "      <td>None</td>\n",
       "      <td>None</td>\n",
       "    </tr>\n",
       "  </tbody>\n",
       "</table>\n",
       "</div>"
      ],
      "text/plain": [
       "                tweet_id  in_reply_to_status_id  in_reply_to_user_id  \\\n",
       "1292  708109389455101952                    NaN                  NaN   \n",
       "97    873337748698140672                    NaN                  NaN   \n",
       "93    874057562936811520                    NaN                  NaN   \n",
       "147   863432100342583297                    NaN                  NaN   \n",
       "1605  685681090388975616           6.855479e+17         4.196984e+09   \n",
       "\n",
       "                      timestamp  \\\n",
       "1292  2016-03-11 01:56:49 +0000   \n",
       "97    2017-06-10 00:35:19 +0000   \n",
       "93    2017-06-12 00:15:36 +0000   \n",
       "147   2017-05-13 16:33:49 +0000   \n",
       "1605  2016-01-09 04:34:45 +0000   \n",
       "\n",
       "                                                 source  \\\n",
       "1292  <a href=\"http://twitter.com/download/iphone\" r...   \n",
       "97    <a href=\"http://twitter.com/download/iphone\" r...   \n",
       "93    <a href=\"http://twitter.com/download/iphone\" r...   \n",
       "147   <a href=\"http://twitter.com/download/iphone\" r...   \n",
       "1605  <a href=\"http://twitter.com/download/iphone\" r...   \n",
       "\n",
       "                                                   text  retweeted_status_id  \\\n",
       "1292  This is Remington. He was caught off guard by ...                  NaN   \n",
       "97    RT @dog_rates: This is Sierra. She's one preci...         8.732138e+17   \n",
       "93    I can't believe this keeps happening. This, is...                  NaN   \n",
       "147   This is Belle. She's never been more pupset. E...                  NaN   \n",
       "1605  Jack deserves another round of applause. If yo...                  NaN   \n",
       "\n",
       "      retweeted_status_user_id retweeted_status_timestamp  \\\n",
       "1292                       NaN                        NaN   \n",
       "97                4.196984e+09  2017-06-09 16:22:42 +0000   \n",
       "93                         NaN                        NaN   \n",
       "147                        NaN                        NaN   \n",
       "1605                       NaN                        NaN   \n",
       "\n",
       "                                          expanded_urls  rating_numerator  \\\n",
       "1292  https://twitter.com/dog_rates/status/708109389...                10   \n",
       "97    https://www.gofundme.com/help-my-baby-sierra-g...                12   \n",
       "93    https://twitter.com/dog_rates/status/874057562...                12   \n",
       "147   https://twitter.com/dog_rates/status/863432100...                12   \n",
       "1605                                                NaN                14   \n",
       "\n",
       "      rating_denominator       name doggo floofer  pupper puppo  \n",
       "1292                  10  Remington  None    None    None  None  \n",
       "97                    10     Sierra  None    None  pupper  None  \n",
       "93                    10       None  None    None    None  None  \n",
       "147                   10      Belle  None    None    None  None  \n",
       "1605                  10       None  None    None    None  None  "
      ]
     },
     "execution_count": 5,
     "metadata": {},
     "output_type": "execute_result"
    }
   ],
   "source": [
    "#take a look at sample data\n",
    "ta.sample(5)"
   ]
  },
  {
   "cell_type": "code",
   "execution_count": 6,
   "metadata": {},
   "outputs": [
    {
     "data": {
      "text/plain": [
       "(2356, 17)"
      ]
     },
     "execution_count": 6,
     "metadata": {},
     "output_type": "execute_result"
    }
   ],
   "source": [
    "#check the number of rows and columns \n",
    "ta.shape  #has 2356 rows and 17 columns"
   ]
  },
  {
   "cell_type": "code",
   "execution_count": 7,
   "metadata": {},
   "outputs": [
    {
     "name": "stdout",
     "output_type": "stream",
     "text": [
      "<class 'pandas.core.frame.DataFrame'>\n",
      "RangeIndex: 2356 entries, 0 to 2355\n",
      "Data columns (total 17 columns):\n",
      " #   Column                      Non-Null Count  Dtype  \n",
      "---  ------                      --------------  -----  \n",
      " 0   tweet_id                    2356 non-null   int64  \n",
      " 1   in_reply_to_status_id       78 non-null     float64\n",
      " 2   in_reply_to_user_id         78 non-null     float64\n",
      " 3   timestamp                   2356 non-null   object \n",
      " 4   source                      2356 non-null   object \n",
      " 5   text                        2356 non-null   object \n",
      " 6   retweeted_status_id         181 non-null    float64\n",
      " 7   retweeted_status_user_id    181 non-null    float64\n",
      " 8   retweeted_status_timestamp  181 non-null    object \n",
      " 9   expanded_urls               2297 non-null   object \n",
      " 10  rating_numerator            2356 non-null   int64  \n",
      " 11  rating_denominator          2356 non-null   int64  \n",
      " 12  name                        2356 non-null   object \n",
      " 13  doggo                       2356 non-null   object \n",
      " 14  floofer                     2356 non-null   object \n",
      " 15  pupper                      2356 non-null   object \n",
      " 16  puppo                       2356 non-null   object \n",
      "dtypes: float64(4), int64(3), object(10)\n",
      "memory usage: 313.0+ KB\n"
     ]
    }
   ],
   "source": [
    "#get the information about the data\n",
    "ta.info()"
   ]
  },
  {
   "cell_type": "code",
   "execution_count": 8,
   "metadata": {},
   "outputs": [
    {
     "data": {
      "text/html": [
       "<div>\n",
       "<style scoped>\n",
       "    .dataframe tbody tr th:only-of-type {\n",
       "        vertical-align: middle;\n",
       "    }\n",
       "\n",
       "    .dataframe tbody tr th {\n",
       "        vertical-align: top;\n",
       "    }\n",
       "\n",
       "    .dataframe thead th {\n",
       "        text-align: right;\n",
       "    }\n",
       "</style>\n",
       "<table border=\"1\" class=\"dataframe\">\n",
       "  <thead>\n",
       "    <tr style=\"text-align: right;\">\n",
       "      <th></th>\n",
       "      <th>tweet_id</th>\n",
       "      <th>in_reply_to_status_id</th>\n",
       "      <th>in_reply_to_user_id</th>\n",
       "      <th>timestamp</th>\n",
       "      <th>source</th>\n",
       "      <th>text</th>\n",
       "      <th>retweeted_status_id</th>\n",
       "      <th>retweeted_status_user_id</th>\n",
       "      <th>retweeted_status_timestamp</th>\n",
       "      <th>expanded_urls</th>\n",
       "      <th>rating_numerator</th>\n",
       "      <th>rating_denominator</th>\n",
       "      <th>name</th>\n",
       "      <th>doggo</th>\n",
       "      <th>floofer</th>\n",
       "      <th>pupper</th>\n",
       "      <th>puppo</th>\n",
       "    </tr>\n",
       "  </thead>\n",
       "  <tbody>\n",
       "    <tr>\n",
       "      <th>19</th>\n",
       "      <td>888202515573088257</td>\n",
       "      <td>NaN</td>\n",
       "      <td>NaN</td>\n",
       "      <td>2017-07-21 01:02:36 +0000</td>\n",
       "      <td>&lt;a href=\"http://twitter.com/download/iphone\" r...</td>\n",
       "      <td>RT @dog_rates: This is Canela. She attempted s...</td>\n",
       "      <td>8.874740e+17</td>\n",
       "      <td>4.196984e+09</td>\n",
       "      <td>2017-07-19 00:47:34 +0000</td>\n",
       "      <td>https://twitter.com/dog_rates/status/887473957...</td>\n",
       "      <td>13</td>\n",
       "      <td>10</td>\n",
       "      <td>Canela</td>\n",
       "      <td>None</td>\n",
       "      <td>None</td>\n",
       "      <td>None</td>\n",
       "      <td>None</td>\n",
       "    </tr>\n",
       "    <tr>\n",
       "      <th>32</th>\n",
       "      <td>886054160059072513</td>\n",
       "      <td>NaN</td>\n",
       "      <td>NaN</td>\n",
       "      <td>2017-07-15 02:45:48 +0000</td>\n",
       "      <td>&lt;a href=\"http://twitter.com/download/iphone\" r...</td>\n",
       "      <td>RT @Athletics: 12/10 #BATP https://t.co/WxwJmv...</td>\n",
       "      <td>8.860537e+17</td>\n",
       "      <td>1.960740e+07</td>\n",
       "      <td>2017-07-15 02:44:07 +0000</td>\n",
       "      <td>https://twitter.com/dog_rates/status/886053434...</td>\n",
       "      <td>12</td>\n",
       "      <td>10</td>\n",
       "      <td>None</td>\n",
       "      <td>None</td>\n",
       "      <td>None</td>\n",
       "      <td>None</td>\n",
       "      <td>None</td>\n",
       "    </tr>\n",
       "    <tr>\n",
       "      <th>36</th>\n",
       "      <td>885311592912609280</td>\n",
       "      <td>NaN</td>\n",
       "      <td>NaN</td>\n",
       "      <td>2017-07-13 01:35:06 +0000</td>\n",
       "      <td>&lt;a href=\"http://twitter.com/download/iphone\" r...</td>\n",
       "      <td>RT @dog_rates: This is Lilly. She just paralle...</td>\n",
       "      <td>8.305833e+17</td>\n",
       "      <td>4.196984e+09</td>\n",
       "      <td>2017-02-12 01:04:29 +0000</td>\n",
       "      <td>https://twitter.com/dog_rates/status/830583320...</td>\n",
       "      <td>13</td>\n",
       "      <td>10</td>\n",
       "      <td>Lilly</td>\n",
       "      <td>None</td>\n",
       "      <td>None</td>\n",
       "      <td>None</td>\n",
       "      <td>None</td>\n",
       "    </tr>\n",
       "    <tr>\n",
       "      <th>68</th>\n",
       "      <td>879130579576475649</td>\n",
       "      <td>NaN</td>\n",
       "      <td>NaN</td>\n",
       "      <td>2017-06-26 00:13:58 +0000</td>\n",
       "      <td>&lt;a href=\"http://twitter.com/download/iphone\" r...</td>\n",
       "      <td>RT @dog_rates: This is Emmy. She was adopted t...</td>\n",
       "      <td>8.780576e+17</td>\n",
       "      <td>4.196984e+09</td>\n",
       "      <td>2017-06-23 01:10:23 +0000</td>\n",
       "      <td>https://twitter.com/dog_rates/status/878057613...</td>\n",
       "      <td>14</td>\n",
       "      <td>10</td>\n",
       "      <td>Emmy</td>\n",
       "      <td>None</td>\n",
       "      <td>None</td>\n",
       "      <td>None</td>\n",
       "      <td>None</td>\n",
       "    </tr>\n",
       "    <tr>\n",
       "      <th>73</th>\n",
       "      <td>878404777348136964</td>\n",
       "      <td>NaN</td>\n",
       "      <td>NaN</td>\n",
       "      <td>2017-06-24 00:09:53 +0000</td>\n",
       "      <td>&lt;a href=\"http://twitter.com/download/iphone\" r...</td>\n",
       "      <td>RT @dog_rates: Meet Shadow. In an attempt to r...</td>\n",
       "      <td>8.782815e+17</td>\n",
       "      <td>4.196984e+09</td>\n",
       "      <td>2017-06-23 16:00:04 +0000</td>\n",
       "      <td>https://www.gofundme.com/3yd6y1c,https://twitt...</td>\n",
       "      <td>13</td>\n",
       "      <td>10</td>\n",
       "      <td>Shadow</td>\n",
       "      <td>None</td>\n",
       "      <td>None</td>\n",
       "      <td>None</td>\n",
       "      <td>None</td>\n",
       "    </tr>\n",
       "    <tr>\n",
       "      <th>...</th>\n",
       "      <td>...</td>\n",
       "      <td>...</td>\n",
       "      <td>...</td>\n",
       "      <td>...</td>\n",
       "      <td>...</td>\n",
       "      <td>...</td>\n",
       "      <td>...</td>\n",
       "      <td>...</td>\n",
       "      <td>...</td>\n",
       "      <td>...</td>\n",
       "      <td>...</td>\n",
       "      <td>...</td>\n",
       "      <td>...</td>\n",
       "      <td>...</td>\n",
       "      <td>...</td>\n",
       "      <td>...</td>\n",
       "      <td>...</td>\n",
       "    </tr>\n",
       "    <tr>\n",
       "      <th>1242</th>\n",
       "      <td>711998809858043904</td>\n",
       "      <td>NaN</td>\n",
       "      <td>NaN</td>\n",
       "      <td>2016-03-21 19:31:59 +0000</td>\n",
       "      <td>&lt;a href=\"http://twitter.com/download/iphone\" r...</td>\n",
       "      <td>RT @twitter: @dog_rates Awesome Tweet! 12/10. ...</td>\n",
       "      <td>7.119983e+17</td>\n",
       "      <td>7.832140e+05</td>\n",
       "      <td>2016-03-21 19:29:52 +0000</td>\n",
       "      <td>https://twitter.com/twitter/status/71199827977...</td>\n",
       "      <td>12</td>\n",
       "      <td>10</td>\n",
       "      <td>None</td>\n",
       "      <td>None</td>\n",
       "      <td>None</td>\n",
       "      <td>None</td>\n",
       "      <td>None</td>\n",
       "    </tr>\n",
       "    <tr>\n",
       "      <th>1286</th>\n",
       "      <td>708400866336894977</td>\n",
       "      <td>NaN</td>\n",
       "      <td>NaN</td>\n",
       "      <td>2016-03-11 21:15:02 +0000</td>\n",
       "      <td>&lt;a href=\"http://vine.co\" rel=\"nofollow\"&gt;Vine -...</td>\n",
       "      <td>RT if you are as ready for summer as this pup ...</td>\n",
       "      <td>NaN</td>\n",
       "      <td>NaN</td>\n",
       "      <td>NaN</td>\n",
       "      <td>https://vine.co/v/iHFqnjKVbIQ</td>\n",
       "      <td>12</td>\n",
       "      <td>10</td>\n",
       "      <td>None</td>\n",
       "      <td>None</td>\n",
       "      <td>None</td>\n",
       "      <td>None</td>\n",
       "      <td>None</td>\n",
       "    </tr>\n",
       "    <tr>\n",
       "      <th>1860</th>\n",
       "      <td>675489971617296384</td>\n",
       "      <td>NaN</td>\n",
       "      <td>NaN</td>\n",
       "      <td>2015-12-12 01:38:53 +0000</td>\n",
       "      <td>&lt;a href=\"http://twitter.com/download/iphone\" r...</td>\n",
       "      <td>RT until we find this dog. Clearly a cool dog ...</td>\n",
       "      <td>NaN</td>\n",
       "      <td>NaN</td>\n",
       "      <td>NaN</td>\n",
       "      <td>https://twitter.com/dog_rates/status/675489971...</td>\n",
       "      <td>10</td>\n",
       "      <td>10</td>\n",
       "      <td>None</td>\n",
       "      <td>None</td>\n",
       "      <td>None</td>\n",
       "      <td>None</td>\n",
       "      <td>None</td>\n",
       "    </tr>\n",
       "    <tr>\n",
       "      <th>2259</th>\n",
       "      <td>667550904950915073</td>\n",
       "      <td>NaN</td>\n",
       "      <td>NaN</td>\n",
       "      <td>2015-11-20 03:51:52 +0000</td>\n",
       "      <td>&lt;a href=\"http://twitter.com\" rel=\"nofollow\"&gt;Tw...</td>\n",
       "      <td>RT @dogratingrating: Exceptional talent. Origi...</td>\n",
       "      <td>6.675487e+17</td>\n",
       "      <td>4.296832e+09</td>\n",
       "      <td>2015-11-20 03:43:06 +0000</td>\n",
       "      <td>https://twitter.com/dogratingrating/status/667...</td>\n",
       "      <td>12</td>\n",
       "      <td>10</td>\n",
       "      <td>None</td>\n",
       "      <td>None</td>\n",
       "      <td>None</td>\n",
       "      <td>None</td>\n",
       "      <td>None</td>\n",
       "    </tr>\n",
       "    <tr>\n",
       "      <th>2260</th>\n",
       "      <td>667550882905632768</td>\n",
       "      <td>NaN</td>\n",
       "      <td>NaN</td>\n",
       "      <td>2015-11-20 03:51:47 +0000</td>\n",
       "      <td>&lt;a href=\"http://twitter.com\" rel=\"nofollow\"&gt;Tw...</td>\n",
       "      <td>RT @dogratingrating: Unoriginal idea. Blatant ...</td>\n",
       "      <td>6.675484e+17</td>\n",
       "      <td>4.296832e+09</td>\n",
       "      <td>2015-11-20 03:41:59 +0000</td>\n",
       "      <td>https://twitter.com/dogratingrating/status/667...</td>\n",
       "      <td>5</td>\n",
       "      <td>10</td>\n",
       "      <td>None</td>\n",
       "      <td>None</td>\n",
       "      <td>None</td>\n",
       "      <td>None</td>\n",
       "      <td>None</td>\n",
       "    </tr>\n",
       "  </tbody>\n",
       "</table>\n",
       "<p>183 rows × 17 columns</p>\n",
       "</div>"
      ],
      "text/plain": [
       "                tweet_id  in_reply_to_status_id  in_reply_to_user_id  \\\n",
       "19    888202515573088257                    NaN                  NaN   \n",
       "32    886054160059072513                    NaN                  NaN   \n",
       "36    885311592912609280                    NaN                  NaN   \n",
       "68    879130579576475649                    NaN                  NaN   \n",
       "73    878404777348136964                    NaN                  NaN   \n",
       "...                  ...                    ...                  ...   \n",
       "1242  711998809858043904                    NaN                  NaN   \n",
       "1286  708400866336894977                    NaN                  NaN   \n",
       "1860  675489971617296384                    NaN                  NaN   \n",
       "2259  667550904950915073                    NaN                  NaN   \n",
       "2260  667550882905632768                    NaN                  NaN   \n",
       "\n",
       "                      timestamp  \\\n",
       "19    2017-07-21 01:02:36 +0000   \n",
       "32    2017-07-15 02:45:48 +0000   \n",
       "36    2017-07-13 01:35:06 +0000   \n",
       "68    2017-06-26 00:13:58 +0000   \n",
       "73    2017-06-24 00:09:53 +0000   \n",
       "...                         ...   \n",
       "1242  2016-03-21 19:31:59 +0000   \n",
       "1286  2016-03-11 21:15:02 +0000   \n",
       "1860  2015-12-12 01:38:53 +0000   \n",
       "2259  2015-11-20 03:51:52 +0000   \n",
       "2260  2015-11-20 03:51:47 +0000   \n",
       "\n",
       "                                                 source  \\\n",
       "19    <a href=\"http://twitter.com/download/iphone\" r...   \n",
       "32    <a href=\"http://twitter.com/download/iphone\" r...   \n",
       "36    <a href=\"http://twitter.com/download/iphone\" r...   \n",
       "68    <a href=\"http://twitter.com/download/iphone\" r...   \n",
       "73    <a href=\"http://twitter.com/download/iphone\" r...   \n",
       "...                                                 ...   \n",
       "1242  <a href=\"http://twitter.com/download/iphone\" r...   \n",
       "1286  <a href=\"http://vine.co\" rel=\"nofollow\">Vine -...   \n",
       "1860  <a href=\"http://twitter.com/download/iphone\" r...   \n",
       "2259  <a href=\"http://twitter.com\" rel=\"nofollow\">Tw...   \n",
       "2260  <a href=\"http://twitter.com\" rel=\"nofollow\">Tw...   \n",
       "\n",
       "                                                   text  retweeted_status_id  \\\n",
       "19    RT @dog_rates: This is Canela. She attempted s...         8.874740e+17   \n",
       "32    RT @Athletics: 12/10 #BATP https://t.co/WxwJmv...         8.860537e+17   \n",
       "36    RT @dog_rates: This is Lilly. She just paralle...         8.305833e+17   \n",
       "68    RT @dog_rates: This is Emmy. She was adopted t...         8.780576e+17   \n",
       "73    RT @dog_rates: Meet Shadow. In an attempt to r...         8.782815e+17   \n",
       "...                                                 ...                  ...   \n",
       "1242  RT @twitter: @dog_rates Awesome Tweet! 12/10. ...         7.119983e+17   \n",
       "1286  RT if you are as ready for summer as this pup ...                  NaN   \n",
       "1860  RT until we find this dog. Clearly a cool dog ...                  NaN   \n",
       "2259  RT @dogratingrating: Exceptional talent. Origi...         6.675487e+17   \n",
       "2260  RT @dogratingrating: Unoriginal idea. Blatant ...         6.675484e+17   \n",
       "\n",
       "      retweeted_status_user_id retweeted_status_timestamp  \\\n",
       "19                4.196984e+09  2017-07-19 00:47:34 +0000   \n",
       "32                1.960740e+07  2017-07-15 02:44:07 +0000   \n",
       "36                4.196984e+09  2017-02-12 01:04:29 +0000   \n",
       "68                4.196984e+09  2017-06-23 01:10:23 +0000   \n",
       "73                4.196984e+09  2017-06-23 16:00:04 +0000   \n",
       "...                        ...                        ...   \n",
       "1242              7.832140e+05  2016-03-21 19:29:52 +0000   \n",
       "1286                       NaN                        NaN   \n",
       "1860                       NaN                        NaN   \n",
       "2259              4.296832e+09  2015-11-20 03:43:06 +0000   \n",
       "2260              4.296832e+09  2015-11-20 03:41:59 +0000   \n",
       "\n",
       "                                          expanded_urls  rating_numerator  \\\n",
       "19    https://twitter.com/dog_rates/status/887473957...                13   \n",
       "32    https://twitter.com/dog_rates/status/886053434...                12   \n",
       "36    https://twitter.com/dog_rates/status/830583320...                13   \n",
       "68    https://twitter.com/dog_rates/status/878057613...                14   \n",
       "73    https://www.gofundme.com/3yd6y1c,https://twitt...                13   \n",
       "...                                                 ...               ...   \n",
       "1242  https://twitter.com/twitter/status/71199827977...                12   \n",
       "1286                      https://vine.co/v/iHFqnjKVbIQ                12   \n",
       "1860  https://twitter.com/dog_rates/status/675489971...                10   \n",
       "2259  https://twitter.com/dogratingrating/status/667...                12   \n",
       "2260  https://twitter.com/dogratingrating/status/667...                 5   \n",
       "\n",
       "      rating_denominator    name doggo floofer pupper puppo  \n",
       "19                    10  Canela  None    None   None  None  \n",
       "32                    10    None  None    None   None  None  \n",
       "36                    10   Lilly  None    None   None  None  \n",
       "68                    10    Emmy  None    None   None  None  \n",
       "73                    10  Shadow  None    None   None  None  \n",
       "...                  ...     ...   ...     ...    ...   ...  \n",
       "1242                  10    None  None    None   None  None  \n",
       "1286                  10    None  None    None   None  None  \n",
       "1860                  10    None  None    None   None  None  \n",
       "2259                  10    None  None    None   None  None  \n",
       "2260                  10    None  None    None   None  None  \n",
       "\n",
       "[183 rows x 17 columns]"
      ]
     },
     "execution_count": 8,
     "metadata": {},
     "output_type": "execute_result"
    }
   ],
   "source": [
    "#check for rows that contains retweet\n",
    "ta[ta['text'].str.startswith('RT')]"
   ]
  },
  {
   "cell_type": "markdown",
   "metadata": {},
   "source": [
    "Details: \n",
    "\n",
    "- in_reply_to_status_id ,in_reply_to_user_id, retweeted_status_id, retweeted_status_user_id, retweeted_status_timestamp and expanded_urls contain missing values\n",
    "- convert timestamp to appropriate datatype and split into date and time or extract just date\n",
    "- delete text column\n",
    "- combine doggo,floofer,pupper,puppo into a column called stages\n",
    "- delete rows that contains retweets"
   ]
  },
  {
   "cell_type": "markdown",
   "metadata": {},
   "source": [
    "Data 2: Additional Tweet Data JSON (tj)"
   ]
  },
  {
   "cell_type": "code",
   "execution_count": 9,
   "metadata": {},
   "outputs": [
    {
     "data": {
      "text/html": [
       "<div>\n",
       "<style scoped>\n",
       "    .dataframe tbody tr th:only-of-type {\n",
       "        vertical-align: middle;\n",
       "    }\n",
       "\n",
       "    .dataframe tbody tr th {\n",
       "        vertical-align: top;\n",
       "    }\n",
       "\n",
       "    .dataframe thead th {\n",
       "        text-align: right;\n",
       "    }\n",
       "</style>\n",
       "<table border=\"1\" class=\"dataframe\">\n",
       "  <thead>\n",
       "    <tr style=\"text-align: right;\">\n",
       "      <th></th>\n",
       "      <th>created_at</th>\n",
       "      <th>id</th>\n",
       "      <th>id_str</th>\n",
       "      <th>full_text</th>\n",
       "      <th>truncated</th>\n",
       "      <th>display_text_range</th>\n",
       "      <th>entities</th>\n",
       "      <th>extended_entities</th>\n",
       "      <th>source</th>\n",
       "      <th>in_reply_to_status_id</th>\n",
       "      <th>...</th>\n",
       "      <th>favorite_count</th>\n",
       "      <th>favorited</th>\n",
       "      <th>retweeted</th>\n",
       "      <th>possibly_sensitive</th>\n",
       "      <th>possibly_sensitive_appealable</th>\n",
       "      <th>lang</th>\n",
       "      <th>retweeted_status</th>\n",
       "      <th>quoted_status_id</th>\n",
       "      <th>quoted_status_id_str</th>\n",
       "      <th>quoted_status</th>\n",
       "    </tr>\n",
       "  </thead>\n",
       "  <tbody>\n",
       "    <tr>\n",
       "      <th>176</th>\n",
       "      <td>2017-04-27 00:38:11+00:00</td>\n",
       "      <td>857393404942143489</td>\n",
       "      <td>857393404942143488</td>\n",
       "      <td>Instead of the usual nightly dog rate, I'm sha...</td>\n",
       "      <td>False</td>\n",
       "      <td>[0, 137]</td>\n",
       "      <td>{'hashtags': [], 'symbols': [], 'user_mentions...</td>\n",
       "      <td>{'media': [{'id': 857393395161067520, 'id_str'...</td>\n",
       "      <td>&lt;a href=\"http://twitter.com/download/iphone\" r...</td>\n",
       "      <td>NaN</td>\n",
       "      <td>...</td>\n",
       "      <td>6236</td>\n",
       "      <td>False</td>\n",
       "      <td>False</td>\n",
       "      <td>0.0</td>\n",
       "      <td>0.0</td>\n",
       "      <td>en</td>\n",
       "      <td>NaN</td>\n",
       "      <td>NaN</td>\n",
       "      <td>NaN</td>\n",
       "      <td>NaN</td>\n",
       "    </tr>\n",
       "    <tr>\n",
       "      <th>590</th>\n",
       "      <td>2016-11-17 01:35:54+00:00</td>\n",
       "      <td>799063482566066176</td>\n",
       "      <td>799063482566066176</td>\n",
       "      <td>This is Mister. He only wears the most fashion...</td>\n",
       "      <td>False</td>\n",
       "      <td>[0, 84]</td>\n",
       "      <td>{'hashtags': [], 'symbols': [], 'user_mentions...</td>\n",
       "      <td>{'media': [{'id': 799063471937769472, 'id_str'...</td>\n",
       "      <td>&lt;a href=\"http://twitter.com/download/iphone\" r...</td>\n",
       "      <td>NaN</td>\n",
       "      <td>...</td>\n",
       "      <td>9058</td>\n",
       "      <td>False</td>\n",
       "      <td>False</td>\n",
       "      <td>0.0</td>\n",
       "      <td>0.0</td>\n",
       "      <td>en</td>\n",
       "      <td>NaN</td>\n",
       "      <td>NaN</td>\n",
       "      <td>NaN</td>\n",
       "      <td>NaN</td>\n",
       "    </tr>\n",
       "    <tr>\n",
       "      <th>353</th>\n",
       "      <td>2017-02-13 22:03:49+00:00</td>\n",
       "      <td>831262627380748289</td>\n",
       "      <td>831262627380748288</td>\n",
       "      <td>This is Tucker. He's feeling h*ckin festive an...</td>\n",
       "      <td>False</td>\n",
       "      <td>[0, 116]</td>\n",
       "      <td>{'hashtags': [], 'symbols': [], 'user_mentions...</td>\n",
       "      <td>{'media': [{'id': 831262617675051009, 'id_str'...</td>\n",
       "      <td>&lt;a href=\"http://twitter.com/download/iphone\" r...</td>\n",
       "      <td>NaN</td>\n",
       "      <td>...</td>\n",
       "      <td>13066</td>\n",
       "      <td>False</td>\n",
       "      <td>False</td>\n",
       "      <td>0.0</td>\n",
       "      <td>0.0</td>\n",
       "      <td>en</td>\n",
       "      <td>NaN</td>\n",
       "      <td>NaN</td>\n",
       "      <td>NaN</td>\n",
       "      <td>NaN</td>\n",
       "    </tr>\n",
       "    <tr>\n",
       "      <th>1445</th>\n",
       "      <td>2016-02-08 00:20:23+00:00</td>\n",
       "      <td>696488710901260288</td>\n",
       "      <td>696488710901260288</td>\n",
       "      <td>12/10 revolutionary af https://t.co/zKzq4nIY86</td>\n",
       "      <td>False</td>\n",
       "      <td>[0, 46]</td>\n",
       "      <td>{'hashtags': [], 'symbols': [], 'user_mentions...</td>\n",
       "      <td>{'media': [{'id': 696488707105386500, 'id_str'...</td>\n",
       "      <td>&lt;a href=\"http://twitter.com/download/iphone\" r...</td>\n",
       "      <td>NaN</td>\n",
       "      <td>...</td>\n",
       "      <td>2788</td>\n",
       "      <td>False</td>\n",
       "      <td>False</td>\n",
       "      <td>0.0</td>\n",
       "      <td>0.0</td>\n",
       "      <td>en</td>\n",
       "      <td>NaN</td>\n",
       "      <td>NaN</td>\n",
       "      <td>NaN</td>\n",
       "      <td>NaN</td>\n",
       "    </tr>\n",
       "    <tr>\n",
       "      <th>1230</th>\n",
       "      <td>2016-03-25 01:29:21+00:00</td>\n",
       "      <td>713175907180089344</td>\n",
       "      <td>713175907180089344</td>\n",
       "      <td>Say hello to Opie and Clarkus. Clarkus fell as...</td>\n",
       "      <td>False</td>\n",
       "      <td>[0, 121]</td>\n",
       "      <td>{'hashtags': [], 'symbols': [], 'user_mentions...</td>\n",
       "      <td>{'media': [{'id': 713175901853319168, 'id_str'...</td>\n",
       "      <td>&lt;a href=\"http://twitter.com/download/iphone\" r...</td>\n",
       "      <td>NaN</td>\n",
       "      <td>...</td>\n",
       "      <td>4851</td>\n",
       "      <td>False</td>\n",
       "      <td>False</td>\n",
       "      <td>0.0</td>\n",
       "      <td>0.0</td>\n",
       "      <td>en</td>\n",
       "      <td>NaN</td>\n",
       "      <td>NaN</td>\n",
       "      <td>NaN</td>\n",
       "      <td>NaN</td>\n",
       "    </tr>\n",
       "  </tbody>\n",
       "</table>\n",
       "<p>5 rows × 31 columns</p>\n",
       "</div>"
      ],
      "text/plain": [
       "                    created_at                  id              id_str  \\\n",
       "176  2017-04-27 00:38:11+00:00  857393404942143489  857393404942143488   \n",
       "590  2016-11-17 01:35:54+00:00  799063482566066176  799063482566066176   \n",
       "353  2017-02-13 22:03:49+00:00  831262627380748289  831262627380748288   \n",
       "1445 2016-02-08 00:20:23+00:00  696488710901260288  696488710901260288   \n",
       "1230 2016-03-25 01:29:21+00:00  713175907180089344  713175907180089344   \n",
       "\n",
       "                                              full_text  truncated  \\\n",
       "176   Instead of the usual nightly dog rate, I'm sha...      False   \n",
       "590   This is Mister. He only wears the most fashion...      False   \n",
       "353   This is Tucker. He's feeling h*ckin festive an...      False   \n",
       "1445     12/10 revolutionary af https://t.co/zKzq4nIY86      False   \n",
       "1230  Say hello to Opie and Clarkus. Clarkus fell as...      False   \n",
       "\n",
       "     display_text_range                                           entities  \\\n",
       "176            [0, 137]  {'hashtags': [], 'symbols': [], 'user_mentions...   \n",
       "590             [0, 84]  {'hashtags': [], 'symbols': [], 'user_mentions...   \n",
       "353            [0, 116]  {'hashtags': [], 'symbols': [], 'user_mentions...   \n",
       "1445            [0, 46]  {'hashtags': [], 'symbols': [], 'user_mentions...   \n",
       "1230           [0, 121]  {'hashtags': [], 'symbols': [], 'user_mentions...   \n",
       "\n",
       "                                      extended_entities  \\\n",
       "176   {'media': [{'id': 857393395161067520, 'id_str'...   \n",
       "590   {'media': [{'id': 799063471937769472, 'id_str'...   \n",
       "353   {'media': [{'id': 831262617675051009, 'id_str'...   \n",
       "1445  {'media': [{'id': 696488707105386500, 'id_str'...   \n",
       "1230  {'media': [{'id': 713175901853319168, 'id_str'...   \n",
       "\n",
       "                                                 source  \\\n",
       "176   <a href=\"http://twitter.com/download/iphone\" r...   \n",
       "590   <a href=\"http://twitter.com/download/iphone\" r...   \n",
       "353   <a href=\"http://twitter.com/download/iphone\" r...   \n",
       "1445  <a href=\"http://twitter.com/download/iphone\" r...   \n",
       "1230  <a href=\"http://twitter.com/download/iphone\" r...   \n",
       "\n",
       "      in_reply_to_status_id  ...  favorite_count  favorited  retweeted  \\\n",
       "176                     NaN  ...            6236      False      False   \n",
       "590                     NaN  ...            9058      False      False   \n",
       "353                     NaN  ...           13066      False      False   \n",
       "1445                    NaN  ...            2788      False      False   \n",
       "1230                    NaN  ...            4851      False      False   \n",
       "\n",
       "     possibly_sensitive possibly_sensitive_appealable  lang  retweeted_status  \\\n",
       "176                 0.0                           0.0    en               NaN   \n",
       "590                 0.0                           0.0    en               NaN   \n",
       "353                 0.0                           0.0    en               NaN   \n",
       "1445                0.0                           0.0    en               NaN   \n",
       "1230                0.0                           0.0    en               NaN   \n",
       "\n",
       "     quoted_status_id  quoted_status_id_str  quoted_status  \n",
       "176               NaN                   NaN            NaN  \n",
       "590               NaN                   NaN            NaN  \n",
       "353               NaN                   NaN            NaN  \n",
       "1445              NaN                   NaN            NaN  \n",
       "1230              NaN                   NaN            NaN  \n",
       "\n",
       "[5 rows x 31 columns]"
      ]
     },
     "execution_count": 9,
     "metadata": {},
     "output_type": "execute_result"
    }
   ],
   "source": [
    "#take a look at sample data\n",
    "tj.sample(5)"
   ]
  },
  {
   "cell_type": "code",
   "execution_count": 10,
   "metadata": {},
   "outputs": [
    {
     "data": {
      "text/plain": [
       "(2354, 31)"
      ]
     },
     "execution_count": 10,
     "metadata": {},
     "output_type": "execute_result"
    }
   ],
   "source": [
    "#check the number of rows and columns\n",
    "tj.shape #has 2354 rows and 31 columns"
   ]
  },
  {
   "cell_type": "code",
   "execution_count": 11,
   "metadata": {},
   "outputs": [
    {
     "name": "stdout",
     "output_type": "stream",
     "text": [
      "<class 'pandas.core.frame.DataFrame'>\n",
      "RangeIndex: 2354 entries, 0 to 2353\n",
      "Data columns (total 31 columns):\n",
      " #   Column                         Non-Null Count  Dtype              \n",
      "---  ------                         --------------  -----              \n",
      " 0   created_at                     2354 non-null   datetime64[ns, UTC]\n",
      " 1   id                             2354 non-null   int64              \n",
      " 2   id_str                         2354 non-null   int64              \n",
      " 3   full_text                      2354 non-null   object             \n",
      " 4   truncated                      2354 non-null   bool               \n",
      " 5   display_text_range             2354 non-null   object             \n",
      " 6   entities                       2354 non-null   object             \n",
      " 7   extended_entities              2073 non-null   object             \n",
      " 8   source                         2354 non-null   object             \n",
      " 9   in_reply_to_status_id          78 non-null     float64            \n",
      " 10  in_reply_to_status_id_str      78 non-null     float64            \n",
      " 11  in_reply_to_user_id            78 non-null     float64            \n",
      " 12  in_reply_to_user_id_str        78 non-null     float64            \n",
      " 13  in_reply_to_screen_name        78 non-null     object             \n",
      " 14  user                           2354 non-null   object             \n",
      " 15  geo                            0 non-null      float64            \n",
      " 16  coordinates                    0 non-null      float64            \n",
      " 17  place                          1 non-null      object             \n",
      " 18  contributors                   0 non-null      float64            \n",
      " 19  is_quote_status                2354 non-null   bool               \n",
      " 20  retweet_count                  2354 non-null   int64              \n",
      " 21  favorite_count                 2354 non-null   int64              \n",
      " 22  favorited                      2354 non-null   bool               \n",
      " 23  retweeted                      2354 non-null   bool               \n",
      " 24  possibly_sensitive             2211 non-null   float64            \n",
      " 25  possibly_sensitive_appealable  2211 non-null   float64            \n",
      " 26  lang                           2354 non-null   object             \n",
      " 27  retweeted_status               179 non-null    object             \n",
      " 28  quoted_status_id               29 non-null     float64            \n",
      " 29  quoted_status_id_str           29 non-null     float64            \n",
      " 30  quoted_status                  28 non-null     object             \n",
      "dtypes: bool(4), datetime64[ns, UTC](1), float64(11), int64(4), object(11)\n",
      "memory usage: 505.9+ KB\n"
     ]
    }
   ],
   "source": [
    "#get details about the data\n",
    "tj.info()"
   ]
  },
  {
   "cell_type": "markdown",
   "metadata": {},
   "source": [
    "Details:\n",
    "- extended_entities, in_reply_to_status_id, in_reply_to_status_id_str, in_reply_to_user_id, in_reply_to_user_id_str, in_reply_to_screen_name, geo, coordinates, place, contributors, possibly_sensitive, possibly_sensitive_appealable, lang, retweeted_status, quoted_status_id, quoted_status_id_str and quoted_status contain missing values\n",
    "- extract date from created_at\n",
    "- change data type of id\n",
    "- drop columns not needed for this analysis"
   ]
  },
  {
   "cell_type": "markdown",
   "metadata": {},
   "source": [
    "Data 3: Image Predictions (ip)"
   ]
  },
  {
   "cell_type": "code",
   "execution_count": 12,
   "metadata": {},
   "outputs": [
    {
     "data": {
      "text/html": [
       "<div>\n",
       "<style scoped>\n",
       "    .dataframe tbody tr th:only-of-type {\n",
       "        vertical-align: middle;\n",
       "    }\n",
       "\n",
       "    .dataframe tbody tr th {\n",
       "        vertical-align: top;\n",
       "    }\n",
       "\n",
       "    .dataframe thead th {\n",
       "        text-align: right;\n",
       "    }\n",
       "</style>\n",
       "<table border=\"1\" class=\"dataframe\">\n",
       "  <thead>\n",
       "    <tr style=\"text-align: right;\">\n",
       "      <th></th>\n",
       "      <th>tweet_id</th>\n",
       "      <th>jpg_url</th>\n",
       "      <th>img_num</th>\n",
       "      <th>p1</th>\n",
       "      <th>p1_conf</th>\n",
       "      <th>p1_dog</th>\n",
       "      <th>p2</th>\n",
       "      <th>p2_conf</th>\n",
       "      <th>p2_dog</th>\n",
       "      <th>p3</th>\n",
       "      <th>p3_conf</th>\n",
       "      <th>p3_dog</th>\n",
       "    </tr>\n",
       "  </thead>\n",
       "  <tbody>\n",
       "    <tr>\n",
       "      <th>0</th>\n",
       "      <td>666020888022790149</td>\n",
       "      <td>https://pbs.twimg.com/media/CT4udn0WwAA0aMy.jpg</td>\n",
       "      <td>1</td>\n",
       "      <td>Welsh_springer_spaniel</td>\n",
       "      <td>0.465074</td>\n",
       "      <td>True</td>\n",
       "      <td>collie</td>\n",
       "      <td>0.156665</td>\n",
       "      <td>True</td>\n",
       "      <td>Shetland_sheepdog</td>\n",
       "      <td>0.061428</td>\n",
       "      <td>True</td>\n",
       "    </tr>\n",
       "    <tr>\n",
       "      <th>1</th>\n",
       "      <td>666029285002620928</td>\n",
       "      <td>https://pbs.twimg.com/media/CT42GRgUYAA5iDo.jpg</td>\n",
       "      <td>1</td>\n",
       "      <td>redbone</td>\n",
       "      <td>0.506826</td>\n",
       "      <td>True</td>\n",
       "      <td>miniature_pinscher</td>\n",
       "      <td>0.074192</td>\n",
       "      <td>True</td>\n",
       "      <td>Rhodesian_ridgeback</td>\n",
       "      <td>0.072010</td>\n",
       "      <td>True</td>\n",
       "    </tr>\n",
       "    <tr>\n",
       "      <th>2</th>\n",
       "      <td>666033412701032449</td>\n",
       "      <td>https://pbs.twimg.com/media/CT4521TWwAEvMyu.jpg</td>\n",
       "      <td>1</td>\n",
       "      <td>German_shepherd</td>\n",
       "      <td>0.596461</td>\n",
       "      <td>True</td>\n",
       "      <td>malinois</td>\n",
       "      <td>0.138584</td>\n",
       "      <td>True</td>\n",
       "      <td>bloodhound</td>\n",
       "      <td>0.116197</td>\n",
       "      <td>True</td>\n",
       "    </tr>\n",
       "    <tr>\n",
       "      <th>3</th>\n",
       "      <td>666044226329800704</td>\n",
       "      <td>https://pbs.twimg.com/media/CT5Dr8HUEAA-lEu.jpg</td>\n",
       "      <td>1</td>\n",
       "      <td>Rhodesian_ridgeback</td>\n",
       "      <td>0.408143</td>\n",
       "      <td>True</td>\n",
       "      <td>redbone</td>\n",
       "      <td>0.360687</td>\n",
       "      <td>True</td>\n",
       "      <td>miniature_pinscher</td>\n",
       "      <td>0.222752</td>\n",
       "      <td>True</td>\n",
       "    </tr>\n",
       "    <tr>\n",
       "      <th>4</th>\n",
       "      <td>666049248165822465</td>\n",
       "      <td>https://pbs.twimg.com/media/CT5IQmsXIAAKY4A.jpg</td>\n",
       "      <td>1</td>\n",
       "      <td>miniature_pinscher</td>\n",
       "      <td>0.560311</td>\n",
       "      <td>True</td>\n",
       "      <td>Rottweiler</td>\n",
       "      <td>0.243682</td>\n",
       "      <td>True</td>\n",
       "      <td>Doberman</td>\n",
       "      <td>0.154629</td>\n",
       "      <td>True</td>\n",
       "    </tr>\n",
       "  </tbody>\n",
       "</table>\n",
       "</div>"
      ],
      "text/plain": [
       "             tweet_id                                          jpg_url  \\\n",
       "0  666020888022790149  https://pbs.twimg.com/media/CT4udn0WwAA0aMy.jpg   \n",
       "1  666029285002620928  https://pbs.twimg.com/media/CT42GRgUYAA5iDo.jpg   \n",
       "2  666033412701032449  https://pbs.twimg.com/media/CT4521TWwAEvMyu.jpg   \n",
       "3  666044226329800704  https://pbs.twimg.com/media/CT5Dr8HUEAA-lEu.jpg   \n",
       "4  666049248165822465  https://pbs.twimg.com/media/CT5IQmsXIAAKY4A.jpg   \n",
       "\n",
       "   img_num                      p1   p1_conf  p1_dog                  p2  \\\n",
       "0        1  Welsh_springer_spaniel  0.465074    True              collie   \n",
       "1        1                 redbone  0.506826    True  miniature_pinscher   \n",
       "2        1         German_shepherd  0.596461    True            malinois   \n",
       "3        1     Rhodesian_ridgeback  0.408143    True             redbone   \n",
       "4        1      miniature_pinscher  0.560311    True          Rottweiler   \n",
       "\n",
       "    p2_conf  p2_dog                   p3   p3_conf  p3_dog  \n",
       "0  0.156665    True    Shetland_sheepdog  0.061428    True  \n",
       "1  0.074192    True  Rhodesian_ridgeback  0.072010    True  \n",
       "2  0.138584    True           bloodhound  0.116197    True  \n",
       "3  0.360687    True   miniature_pinscher  0.222752    True  \n",
       "4  0.243682    True             Doberman  0.154629    True  "
      ]
     },
     "execution_count": 12,
     "metadata": {},
     "output_type": "execute_result"
    }
   ],
   "source": [
    "#look at the top 5 rows to enable you visually access the data\n",
    "ip.head(5)"
   ]
  },
  {
   "cell_type": "code",
   "execution_count": 13,
   "metadata": {},
   "outputs": [
    {
     "data": {
      "text/plain": [
       "(2075, 12)"
      ]
     },
     "execution_count": 13,
     "metadata": {},
     "output_type": "execute_result"
    }
   ],
   "source": [
    "#check number of rows and columns \n",
    "ip.shape #has 2075 rows and 12 columns"
   ]
  },
  {
   "cell_type": "code",
   "execution_count": 14,
   "metadata": {},
   "outputs": [
    {
     "name": "stdout",
     "output_type": "stream",
     "text": [
      "<class 'pandas.core.frame.DataFrame'>\n",
      "RangeIndex: 2075 entries, 0 to 2074\n",
      "Data columns (total 12 columns):\n",
      " #   Column    Non-Null Count  Dtype  \n",
      "---  ------    --------------  -----  \n",
      " 0   tweet_id  2075 non-null   int64  \n",
      " 1   jpg_url   2075 non-null   object \n",
      " 2   img_num   2075 non-null   int64  \n",
      " 3   p1        2075 non-null   object \n",
      " 4   p1_conf   2075 non-null   float64\n",
      " 5   p1_dog    2075 non-null   bool   \n",
      " 6   p2        2075 non-null   object \n",
      " 7   p2_conf   2075 non-null   float64\n",
      " 8   p2_dog    2075 non-null   bool   \n",
      " 9   p3        2075 non-null   object \n",
      " 10  p3_conf   2075 non-null   float64\n",
      " 11  p3_dog    2075 non-null   bool   \n",
      "dtypes: bool(3), float64(3), int64(2), object(4)\n",
      "memory usage: 152.1+ KB\n"
     ]
    }
   ],
   "source": [
    "#get details about the data.\n",
    "ip.info()"
   ]
  },
  {
   "cell_type": "markdown",
   "metadata": {},
   "source": [
    "Details\n",
    "\n",
    "- Change the datatype of tweet_id to string\n",
    "- Change the datatype of img_num to category"
   ]
  },
  {
   "cell_type": "markdown",
   "metadata": {},
   "source": [
    "# DATA ISSUES"
   ]
  },
  {
   "cell_type": "markdown",
   "metadata": {},
   "source": [
    "QUALITY:\n",
    "- Change the data type of some columns\n",
    "- Deal with missing values either by removing or imputing values\n",
    "- Extract date from the timestamp column\n",
    "- Replace None with NaN\n",
    "- Fill incorrect and empty animal names with 'Unknown'\n",
    "- Remove rows that contains retweet\n",
    "- Remove duplicates\n",
    "- Rename some columns headers to be more descriptive\n",
    "\n",
    "\n",
    "\n",
    "TIDINESS: \n",
    "- Combine doggo,floofer,pupper,puppo into a column called stages\n",
    "- Dropping columns not necessary for the analysis\n",
    "- Merge the three datasets into one"
   ]
  },
  {
   "cell_type": "markdown",
   "metadata": {},
   "source": [
    "# Clean\n",
    "This entails coding to clean the dataset as identified under the Assess heading"
   ]
  },
  {
   "cell_type": "markdown",
   "metadata": {},
   "source": [
    "Data 1: Twitter Archive (ta)"
   ]
  },
  {
   "cell_type": "code",
   "execution_count": 15,
   "metadata": {},
   "outputs": [],
   "source": [
    "#make a copy of ta\n",
    "ta_copy = ta.copy()"
   ]
  },
  {
   "cell_type": "markdown",
   "metadata": {},
   "source": [
    "# 1"
   ]
  },
  {
   "cell_type": "markdown",
   "metadata": {},
   "source": [
    "DEFINE: Remove all information related to retweets"
   ]
  },
  {
   "cell_type": "markdown",
   "metadata": {},
   "source": [
    "CODE: Keep only the rows that are empty for retweet-related columns which are retweeted_status_id, retweeted_status_user_id and retweeted_status_timestamp."
   ]
  },
  {
   "cell_type": "code",
   "execution_count": 16,
   "metadata": {},
   "outputs": [],
   "source": [
    "ta_copy = ta_copy[ta_copy.retweeted_status_id.isna()]"
   ]
  },
  {
   "cell_type": "code",
   "execution_count": 17,
   "metadata": {},
   "outputs": [],
   "source": [
    "ta_copy = ta_copy[ta_copy.retweeted_status_user_id.isna()]"
   ]
  },
  {
   "cell_type": "code",
   "execution_count": 18,
   "metadata": {},
   "outputs": [],
   "source": [
    "ta_copy = ta_copy[ta_copy.retweeted_status_timestamp.isna()]"
   ]
  },
  {
   "cell_type": "markdown",
   "metadata": {},
   "source": [
    "TEST: Check that all records related to retweets have been dropped"
   ]
  },
  {
   "cell_type": "code",
   "execution_count": 19,
   "metadata": {},
   "outputs": [
    {
     "data": {
      "text/plain": [
       "(2175, 17)"
      ]
     },
     "execution_count": 19,
     "metadata": {},
     "output_type": "execute_result"
    }
   ],
   "source": [
    "ta_copy.shape"
   ]
  },
  {
   "cell_type": "code",
   "execution_count": 20,
   "metadata": {},
   "outputs": [
    {
     "data": {
      "text/plain": [
       "True    2175\n",
       "Name: retweeted_status_id, dtype: int64"
      ]
     },
     "execution_count": 20,
     "metadata": {},
     "output_type": "execute_result"
    }
   ],
   "source": [
    "ta_copy.retweeted_status_id.isna().value_counts()"
   ]
  },
  {
   "cell_type": "code",
   "execution_count": 21,
   "metadata": {},
   "outputs": [
    {
     "data": {
      "text/plain": [
       "True    2175\n",
       "Name: retweeted_status_user_id, dtype: int64"
      ]
     },
     "execution_count": 21,
     "metadata": {},
     "output_type": "execute_result"
    }
   ],
   "source": [
    "ta_copy.retweeted_status_user_id.isna().value_counts()"
   ]
  },
  {
   "cell_type": "code",
   "execution_count": 22,
   "metadata": {},
   "outputs": [
    {
     "data": {
      "text/plain": [
       "True    2175\n",
       "Name: retweeted_status_timestamp, dtype: int64"
      ]
     },
     "execution_count": 22,
     "metadata": {},
     "output_type": "execute_result"
    }
   ],
   "source": [
    "ta_copy.retweeted_status_timestamp.isna().value_counts()"
   ]
  },
  {
   "cell_type": "code",
   "execution_count": 23,
   "metadata": {},
   "outputs": [
    {
     "data": {
      "text/html": [
       "<div>\n",
       "<style scoped>\n",
       "    .dataframe tbody tr th:only-of-type {\n",
       "        vertical-align: middle;\n",
       "    }\n",
       "\n",
       "    .dataframe tbody tr th {\n",
       "        vertical-align: top;\n",
       "    }\n",
       "\n",
       "    .dataframe thead th {\n",
       "        text-align: right;\n",
       "    }\n",
       "</style>\n",
       "<table border=\"1\" class=\"dataframe\">\n",
       "  <thead>\n",
       "    <tr style=\"text-align: right;\">\n",
       "      <th></th>\n",
       "      <th>tweet_id</th>\n",
       "      <th>in_reply_to_status_id</th>\n",
       "      <th>in_reply_to_user_id</th>\n",
       "      <th>timestamp</th>\n",
       "      <th>source</th>\n",
       "      <th>text</th>\n",
       "      <th>retweeted_status_id</th>\n",
       "      <th>retweeted_status_user_id</th>\n",
       "      <th>retweeted_status_timestamp</th>\n",
       "      <th>expanded_urls</th>\n",
       "      <th>rating_numerator</th>\n",
       "      <th>rating_denominator</th>\n",
       "      <th>name</th>\n",
       "      <th>doggo</th>\n",
       "      <th>floofer</th>\n",
       "      <th>pupper</th>\n",
       "      <th>puppo</th>\n",
       "    </tr>\n",
       "  </thead>\n",
       "  <tbody>\n",
       "  </tbody>\n",
       "</table>\n",
       "</div>"
      ],
      "text/plain": [
       "Empty DataFrame\n",
       "Columns: [tweet_id, in_reply_to_status_id, in_reply_to_user_id, timestamp, source, text, retweeted_status_id, retweeted_status_user_id, retweeted_status_timestamp, expanded_urls, rating_numerator, rating_denominator, name, doggo, floofer, pupper, puppo]\n",
       "Index: []"
      ]
     },
     "execution_count": 23,
     "metadata": {},
     "output_type": "execute_result"
    }
   ],
   "source": [
    "ta_copy[ta_copy.name.str.startswith('RT')]"
   ]
  },
  {
   "cell_type": "markdown",
   "metadata": {},
   "source": [
    "# 2"
   ]
  },
  {
   "cell_type": "markdown",
   "metadata": {},
   "source": [
    "DEFINE: For the columns with missing values (in_reply_to_status_id ,in_reply_to_user_id, retweeted_status_id, retweeted_status_user_id, retweeted_status_timestamp and expanded_urls) contain missing values,\n",
    "take a deep dive into the content so you can know either to remove column or impute values"
   ]
  },
  {
   "cell_type": "markdown",
   "metadata": {},
   "source": [
    "CODE: \n",
    "- Check the number of missing values in each column\n",
    "- Drop columns who has about 80% missing values"
   ]
  },
  {
   "cell_type": "code",
   "execution_count": 24,
   "metadata": {},
   "outputs": [
    {
     "data": {
      "text/plain": [
       "True     2097\n",
       "False      78\n",
       "Name: in_reply_to_status_id, dtype: int64"
      ]
     },
     "execution_count": 24,
     "metadata": {},
     "output_type": "execute_result"
    }
   ],
   "source": [
    "ta_copy.in_reply_to_status_id.isna().value_counts()"
   ]
  },
  {
   "cell_type": "code",
   "execution_count": 25,
   "metadata": {},
   "outputs": [
    {
     "data": {
      "text/plain": [
       "True     2097\n",
       "False      78\n",
       "Name: in_reply_to_user_id, dtype: int64"
      ]
     },
     "execution_count": 25,
     "metadata": {},
     "output_type": "execute_result"
    }
   ],
   "source": [
    "ta_copy.in_reply_to_user_id.isna().value_counts()"
   ]
  },
  {
   "cell_type": "code",
   "execution_count": 26,
   "metadata": {},
   "outputs": [
    {
     "data": {
      "text/plain": [
       "True    2175\n",
       "Name: retweeted_status_id, dtype: int64"
      ]
     },
     "execution_count": 26,
     "metadata": {},
     "output_type": "execute_result"
    }
   ],
   "source": [
    "ta_copy.retweeted_status_id.isna().value_counts()"
   ]
  },
  {
   "cell_type": "code",
   "execution_count": 27,
   "metadata": {},
   "outputs": [
    {
     "data": {
      "text/plain": [
       "True    2175\n",
       "Name: retweeted_status_user_id, dtype: int64"
      ]
     },
     "execution_count": 27,
     "metadata": {},
     "output_type": "execute_result"
    }
   ],
   "source": [
    "ta_copy.retweeted_status_user_id.isna().value_counts()"
   ]
  },
  {
   "cell_type": "code",
   "execution_count": 28,
   "metadata": {},
   "outputs": [
    {
     "data": {
      "text/plain": [
       "True    2175\n",
       "Name: retweeted_status_timestamp, dtype: int64"
      ]
     },
     "execution_count": 28,
     "metadata": {},
     "output_type": "execute_result"
    }
   ],
   "source": [
    "ta_copy.retweeted_status_timestamp.isna().value_counts()"
   ]
  },
  {
   "cell_type": "code",
   "execution_count": 29,
   "metadata": {},
   "outputs": [
    {
     "data": {
      "text/plain": [
       "False    2117\n",
       "True       58\n",
       "Name: expanded_urls, dtype: int64"
      ]
     },
     "execution_count": 29,
     "metadata": {},
     "output_type": "execute_result"
    }
   ],
   "source": [
    "ta_copy.expanded_urls.isna().value_counts()"
   ]
  },
  {
   "cell_type": "markdown",
   "metadata": {},
   "source": [
    "Asides expanded_urls, the higher number of missing values in the remaining columns justifies dropping these columns"
   ]
  },
  {
   "cell_type": "code",
   "execution_count": 30,
   "metadata": {},
   "outputs": [],
   "source": [
    "#drop the columns\n",
    "ta_copy.drop(['in_reply_to_status_id' ,'in_reply_to_user_id', 'retweeted_status_id', 'retweeted_status_user_id', 'retweeted_status_timestamp'], axis=1, inplace=True)"
   ]
  },
  {
   "cell_type": "code",
   "execution_count": 31,
   "metadata": {},
   "outputs": [],
   "source": [
    "#drop the expanded_urls column because it is not necessary for the intended analysis\n",
    "ta_copy.drop(['expanded_urls'], axis=1, inplace=True)"
   ]
  },
  {
   "cell_type": "markdown",
   "metadata": {},
   "source": [
    "TEST: Check that the columns have been dropped"
   ]
  },
  {
   "cell_type": "code",
   "execution_count": 32,
   "metadata": {},
   "outputs": [
    {
     "name": "stdout",
     "output_type": "stream",
     "text": [
      "<class 'pandas.core.frame.DataFrame'>\n",
      "Int64Index: 2175 entries, 0 to 2355\n",
      "Data columns (total 11 columns):\n",
      " #   Column              Non-Null Count  Dtype \n",
      "---  ------              --------------  ----- \n",
      " 0   tweet_id            2175 non-null   int64 \n",
      " 1   timestamp           2175 non-null   object\n",
      " 2   source              2175 non-null   object\n",
      " 3   text                2175 non-null   object\n",
      " 4   rating_numerator    2175 non-null   int64 \n",
      " 5   rating_denominator  2175 non-null   int64 \n",
      " 6   name                2175 non-null   object\n",
      " 7   doggo               2175 non-null   object\n",
      " 8   floofer             2175 non-null   object\n",
      " 9   pupper              2175 non-null   object\n",
      " 10  puppo               2175 non-null   object\n",
      "dtypes: int64(3), object(8)\n",
      "memory usage: 203.9+ KB\n"
     ]
    }
   ],
   "source": [
    "ta_copy.info()"
   ]
  },
  {
   "cell_type": "markdown",
   "metadata": {},
   "source": [
    "# 3"
   ]
  },
  {
   "cell_type": "markdown",
   "metadata": {},
   "source": [
    "DEFINE: Change the data type of tweet_id to string and after extracting date from timestamp, change the datatype to datetime"
   ]
  },
  {
   "cell_type": "markdown",
   "metadata": {},
   "source": [
    "CODE: Use astype() and to_timestamp() to change the datatypes"
   ]
  },
  {
   "cell_type": "code",
   "execution_count": 33,
   "metadata": {},
   "outputs": [],
   "source": [
    "#change the datatype of tweet_id to string\n",
    "ta_copy.tweet_id = ta_copy.tweet_id.astype(str)"
   ]
  },
  {
   "cell_type": "code",
   "execution_count": 34,
   "metadata": {},
   "outputs": [],
   "source": [
    "#extract date from the datetime column\n",
    "ta_copy['date'] = ta_copy.timestamp.str.split(n=1,expand=True)[0]"
   ]
  },
  {
   "cell_type": "code",
   "execution_count": 35,
   "metadata": {},
   "outputs": [],
   "source": [
    "#convert timestamp to appropriate datatype and then extract data from the column \n",
    "ta_copy.date = pd.to_datetime(ta_copy.date)"
   ]
  },
  {
   "cell_type": "code",
   "execution_count": 36,
   "metadata": {},
   "outputs": [],
   "source": [
    "#drop timestamp column\n",
    "ta_copy.drop('timestamp', axis=1,inplace=True)"
   ]
  },
  {
   "cell_type": "markdown",
   "metadata": {},
   "source": [
    "TEST: Check if the data types have been changed"
   ]
  },
  {
   "cell_type": "code",
   "execution_count": 37,
   "metadata": {},
   "outputs": [
    {
     "name": "stdout",
     "output_type": "stream",
     "text": [
      "<class 'pandas.core.frame.DataFrame'>\n",
      "Int64Index: 2175 entries, 0 to 2355\n",
      "Data columns (total 11 columns):\n",
      " #   Column              Non-Null Count  Dtype         \n",
      "---  ------              --------------  -----         \n",
      " 0   tweet_id            2175 non-null   object        \n",
      " 1   source              2175 non-null   object        \n",
      " 2   text                2175 non-null   object        \n",
      " 3   rating_numerator    2175 non-null   int64         \n",
      " 4   rating_denominator  2175 non-null   int64         \n",
      " 5   name                2175 non-null   object        \n",
      " 6   doggo               2175 non-null   object        \n",
      " 7   floofer             2175 non-null   object        \n",
      " 8   pupper              2175 non-null   object        \n",
      " 9   puppo               2175 non-null   object        \n",
      " 10  date                2175 non-null   datetime64[ns]\n",
      "dtypes: datetime64[ns](1), int64(2), object(8)\n",
      "memory usage: 203.9+ KB\n"
     ]
    }
   ],
   "source": [
    "ta_copy.info()"
   ]
  },
  {
   "cell_type": "markdown",
   "metadata": {},
   "source": [
    "# 4"
   ]
  },
  {
   "cell_type": "markdown",
   "metadata": {},
   "source": [
    "DEFINE: Replace 'None' with NaN and also incorrect dog names with 'Unknown'"
   ]
  },
  {
   "cell_type": "markdown",
   "metadata": {},
   "source": [
    "CODE: Use the replace() function"
   ]
  },
  {
   "cell_type": "code",
   "execution_count": 38,
   "metadata": {},
   "outputs": [],
   "source": [
    "#replace None with NaN\n",
    "ta_copy = ta_copy.replace('None',np.nan)"
   ]
  },
  {
   "cell_type": "code",
   "execution_count": 39,
   "metadata": {},
   "outputs": [],
   "source": [
    "#replace missing dog names and dog names that start with small letters with 'Unknown' \n",
    "ta_copy.name = ta_copy.replace(ta_copy.name.str.islower(),'Unknown')\n",
    "ta_copy.name = ta_copy.replace(np.nan, 'Unknown')"
   ]
  },
  {
   "cell_type": "markdown",
   "metadata": {},
   "source": [
    "TEST:"
   ]
  },
  {
   "cell_type": "code",
   "execution_count": 40,
   "metadata": {},
   "outputs": [
    {
     "data": {
      "text/html": [
       "<div>\n",
       "<style scoped>\n",
       "    .dataframe tbody tr th:only-of-type {\n",
       "        vertical-align: middle;\n",
       "    }\n",
       "\n",
       "    .dataframe tbody tr th {\n",
       "        vertical-align: top;\n",
       "    }\n",
       "\n",
       "    .dataframe thead th {\n",
       "        text-align: right;\n",
       "    }\n",
       "</style>\n",
       "<table border=\"1\" class=\"dataframe\">\n",
       "  <thead>\n",
       "    <tr style=\"text-align: right;\">\n",
       "      <th></th>\n",
       "      <th>tweet_id</th>\n",
       "      <th>source</th>\n",
       "      <th>text</th>\n",
       "      <th>rating_numerator</th>\n",
       "      <th>rating_denominator</th>\n",
       "      <th>name</th>\n",
       "      <th>doggo</th>\n",
       "      <th>floofer</th>\n",
       "      <th>pupper</th>\n",
       "      <th>puppo</th>\n",
       "      <th>date</th>\n",
       "    </tr>\n",
       "  </thead>\n",
       "  <tbody>\n",
       "  </tbody>\n",
       "</table>\n",
       "</div>"
      ],
      "text/plain": [
       "Empty DataFrame\n",
       "Columns: [tweet_id, source, text, rating_numerator, rating_denominator, name, doggo, floofer, pupper, puppo, date]\n",
       "Index: []"
      ]
     },
     "execution_count": 40,
     "metadata": {},
     "output_type": "execute_result"
    }
   ],
   "source": [
    "ta_copy[ta_copy.name.str.islower()]"
   ]
  },
  {
   "cell_type": "code",
   "execution_count": 41,
   "metadata": {},
   "outputs": [
    {
     "data": {
      "text/plain": [
       "0"
      ]
     },
     "execution_count": 41,
     "metadata": {},
     "output_type": "execute_result"
    }
   ],
   "source": [
    "ta_copy.name.isna().sum()"
   ]
  },
  {
   "cell_type": "markdown",
   "metadata": {},
   "source": [
    "# 5"
   ]
  },
  {
   "cell_type": "markdown",
   "metadata": {},
   "source": [
    "DEFINE: combine the doggo,floofer,pupper and puppo columns into one column "
   ]
  },
  {
   "cell_type": "markdown",
   "metadata": {},
   "source": [
    "CODE: Use the melt() function"
   ]
  },
  {
   "cell_type": "code",
   "execution_count": 42,
   "metadata": {},
   "outputs": [],
   "source": [
    "id_var =  ['tweet_id','source','text','rating_numerator','rating_denominator','name', 'date']\n",
    "value_var = ['doggo','floofer','pupper','puppo']\n",
    "ta_final = ta_copy.melt(id_vars = id_var, value_vars = value_var, var_name = 'Stage_var', value_name = 'stage')\n",
    "\n",
    "#drop 'Stage_var'\n",
    "ta_final.drop('Stage_var',axis=1, inplace=True)\n",
    "\n",
    "#drop duplicates\n",
    "ta_final.drop_duplicates(keep = 'first',inplace=True)"
   ]
  },
  {
   "cell_type": "markdown",
   "metadata": {},
   "source": [
    "CHECK:"
   ]
  },
  {
   "cell_type": "code",
   "execution_count": 43,
   "metadata": {},
   "outputs": [
    {
     "name": "stdout",
     "output_type": "stream",
     "text": [
      "<class 'pandas.core.frame.DataFrame'>\n",
      "Int64Index: 2531 entries, 0 to 7430\n",
      "Data columns (total 8 columns):\n",
      " #   Column              Non-Null Count  Dtype         \n",
      "---  ------              --------------  -----         \n",
      " 0   tweet_id            2531 non-null   object        \n",
      " 1   source              2531 non-null   object        \n",
      " 2   text                2531 non-null   object        \n",
      " 3   rating_numerator    2531 non-null   int64         \n",
      " 4   rating_denominator  2531 non-null   int64         \n",
      " 5   name                2531 non-null   object        \n",
      " 6   date                2531 non-null   datetime64[ns]\n",
      " 7   stage               356 non-null    object        \n",
      "dtypes: datetime64[ns](1), int64(2), object(5)\n",
      "memory usage: 178.0+ KB\n"
     ]
    }
   ],
   "source": [
    "ta_final.info()"
   ]
  },
  {
   "cell_type": "code",
   "execution_count": 44,
   "metadata": {},
   "outputs": [
    {
     "data": {
      "text/plain": [
       "pupper     234\n",
       "doggo       87\n",
       "puppo       25\n",
       "floofer     10\n",
       "Name: stage, dtype: int64"
      ]
     },
     "execution_count": 44,
     "metadata": {},
     "output_type": "execute_result"
    }
   ],
   "source": [
    "ta_final.stage.value_counts()"
   ]
  },
  {
   "cell_type": "markdown",
   "metadata": {},
   "source": [
    "Data 2: Tweet JSON (tj)"
   ]
  },
  {
   "cell_type": "code",
   "execution_count": 45,
   "metadata": {},
   "outputs": [],
   "source": [
    "#make a copy of the data\n",
    "tj_copy = tj.copy()"
   ]
  },
  {
   "cell_type": "markdown",
   "metadata": {},
   "source": [
    "# 6"
   ]
  },
  {
   "cell_type": "markdown",
   "metadata": {},
   "source": [
    "DEFINE: convert created_at to string, then split to extract data and then convert back to datetime. Convert id and id_str to string"
   ]
  },
  {
   "cell_type": "markdown",
   "metadata": {},
   "source": [
    "CODE:"
   ]
  },
  {
   "cell_type": "code",
   "execution_count": 46,
   "metadata": {},
   "outputs": [],
   "source": [
    "tj_copy.created_at = tj_copy.created_at.astype(str)\n",
    "tj_copy.created_at = tj_copy.created_at.str.split(n=1,expand=True)[0]\n",
    "tj_copy.created_at = pd.to_datetime(tj_copy.created_at)"
   ]
  },
  {
   "cell_type": "code",
   "execution_count": 47,
   "metadata": {},
   "outputs": [],
   "source": [
    "tj_copy.id = tj_copy.id.astype(str)\n",
    "tj_copy.id_str = tj_copy.id_str.astype(str)"
   ]
  },
  {
   "cell_type": "markdown",
   "metadata": {},
   "source": [
    "TEST:"
   ]
  },
  {
   "cell_type": "code",
   "execution_count": 48,
   "metadata": {},
   "outputs": [
    {
     "name": "stdout",
     "output_type": "stream",
     "text": [
      "<class 'pandas.core.frame.DataFrame'>\n",
      "RangeIndex: 2354 entries, 0 to 2353\n",
      "Data columns (total 31 columns):\n",
      " #   Column                         Non-Null Count  Dtype         \n",
      "---  ------                         --------------  -----         \n",
      " 0   created_at                     2354 non-null   datetime64[ns]\n",
      " 1   id                             2354 non-null   object        \n",
      " 2   id_str                         2354 non-null   object        \n",
      " 3   full_text                      2354 non-null   object        \n",
      " 4   truncated                      2354 non-null   bool          \n",
      " 5   display_text_range             2354 non-null   object        \n",
      " 6   entities                       2354 non-null   object        \n",
      " 7   extended_entities              2073 non-null   object        \n",
      " 8   source                         2354 non-null   object        \n",
      " 9   in_reply_to_status_id          78 non-null     float64       \n",
      " 10  in_reply_to_status_id_str      78 non-null     float64       \n",
      " 11  in_reply_to_user_id            78 non-null     float64       \n",
      " 12  in_reply_to_user_id_str        78 non-null     float64       \n",
      " 13  in_reply_to_screen_name        78 non-null     object        \n",
      " 14  user                           2354 non-null   object        \n",
      " 15  geo                            0 non-null      float64       \n",
      " 16  coordinates                    0 non-null      float64       \n",
      " 17  place                          1 non-null      object        \n",
      " 18  contributors                   0 non-null      float64       \n",
      " 19  is_quote_status                2354 non-null   bool          \n",
      " 20  retweet_count                  2354 non-null   int64         \n",
      " 21  favorite_count                 2354 non-null   int64         \n",
      " 22  favorited                      2354 non-null   bool          \n",
      " 23  retweeted                      2354 non-null   bool          \n",
      " 24  possibly_sensitive             2211 non-null   float64       \n",
      " 25  possibly_sensitive_appealable  2211 non-null   float64       \n",
      " 26  lang                           2354 non-null   object        \n",
      " 27  retweeted_status               179 non-null    object        \n",
      " 28  quoted_status_id               29 non-null     float64       \n",
      " 29  quoted_status_id_str           29 non-null     float64       \n",
      " 30  quoted_status                  28 non-null     object        \n",
      "dtypes: bool(4), datetime64[ns](1), float64(11), int64(2), object(13)\n",
      "memory usage: 505.9+ KB\n"
     ]
    }
   ],
   "source": [
    "tj_copy.info()"
   ]
  },
  {
   "cell_type": "markdown",
   "metadata": {},
   "source": [
    "# 7"
   ]
  },
  {
   "cell_type": "markdown",
   "metadata": {},
   "source": [
    "DEFINE: Deal with columns that have missing values"
   ]
  },
  {
   "cell_type": "markdown",
   "metadata": {},
   "source": [
    "CODE:"
   ]
  },
  {
   "cell_type": "code",
   "execution_count": 49,
   "metadata": {},
   "outputs": [
    {
     "name": "stdout",
     "output_type": "stream",
     "text": [
      "2326\n",
      "2325\n",
      "2325\n",
      "2175\n",
      "2354\n",
      "2353\n",
      "2354\n",
      "2354\n",
      "2276\n",
      "2276\n",
      "2276\n",
      "2276\n",
      "2276\n"
     ]
    }
   ],
   "source": [
    "#show the count of missing values in the columns\n",
    "print(tj_copy.quoted_status.isna().sum())\n",
    "print(tj_copy.quoted_status_id_str.isna().sum())\n",
    "print(tj_copy.quoted_status_id.isna().sum())\n",
    "print(tj_copy.retweeted_status.isna().sum())\n",
    "print(tj_copy.contributors.isna().sum())\n",
    "print(tj_copy.place.isna().sum())\n",
    "print(tj_copy.coordinates.isna().sum())\n",
    "print(tj_copy.geo.isna().sum())\n",
    "print(tj_copy.in_reply_to_status_id.isna().sum())\n",
    "print(tj_copy.in_reply_to_status_id_str.isna().sum())\n",
    "print(tj_copy.in_reply_to_user_id.isna().sum())\n",
    "print(tj_copy.in_reply_to_user_id_str.isna().sum())\n",
    "print(tj_copy.in_reply_to_screen_name.isna().sum())"
   ]
  },
  {
   "cell_type": "code",
   "execution_count": 50,
   "metadata": {},
   "outputs": [],
   "source": [
    "#drop columns that have almost more than 80% of the values empty and not useful to this analysis\n",
    "to_drop = ['in_reply_to_status_id', 'in_reply_to_status_id_str', 'in_reply_to_user_id','in_reply_to_user_id_str', 'in_reply_to_screen_name', 'geo', 'coordinates', 'place','contributors', 'retweeted_status', 'quoted_status_id', 'quoted_status_id_str', 'quoted_status']\n",
    "\n",
    "tj_copy.drop(columns = to_drop, inplace=True)"
   ]
  },
  {
   "cell_type": "markdown",
   "metadata": {},
   "source": [
    "TEST:"
   ]
  },
  {
   "cell_type": "code",
   "execution_count": 51,
   "metadata": {},
   "outputs": [
    {
     "name": "stdout",
     "output_type": "stream",
     "text": [
      "<class 'pandas.core.frame.DataFrame'>\n",
      "RangeIndex: 2354 entries, 0 to 2353\n",
      "Data columns (total 18 columns):\n",
      " #   Column                         Non-Null Count  Dtype         \n",
      "---  ------                         --------------  -----         \n",
      " 0   created_at                     2354 non-null   datetime64[ns]\n",
      " 1   id                             2354 non-null   object        \n",
      " 2   id_str                         2354 non-null   object        \n",
      " 3   full_text                      2354 non-null   object        \n",
      " 4   truncated                      2354 non-null   bool          \n",
      " 5   display_text_range             2354 non-null   object        \n",
      " 6   entities                       2354 non-null   object        \n",
      " 7   extended_entities              2073 non-null   object        \n",
      " 8   source                         2354 non-null   object        \n",
      " 9   user                           2354 non-null   object        \n",
      " 10  is_quote_status                2354 non-null   bool          \n",
      " 11  retweet_count                  2354 non-null   int64         \n",
      " 12  favorite_count                 2354 non-null   int64         \n",
      " 13  favorited                      2354 non-null   bool          \n",
      " 14  retweeted                      2354 non-null   bool          \n",
      " 15  possibly_sensitive             2211 non-null   float64       \n",
      " 16  possibly_sensitive_appealable  2211 non-null   float64       \n",
      " 17  lang                           2354 non-null   object        \n",
      "dtypes: bool(4), datetime64[ns](1), float64(2), int64(2), object(9)\n",
      "memory usage: 266.8+ KB\n"
     ]
    }
   ],
   "source": [
    "tj_copy.info()"
   ]
  },
  {
   "cell_type": "markdown",
   "metadata": {},
   "source": [
    "# 8"
   ]
  },
  {
   "cell_type": "markdown",
   "metadata": {},
   "source": [
    "DEFINE: Select only columns needed for this analysis"
   ]
  },
  {
   "cell_type": "markdown",
   "metadata": {},
   "source": [
    "CODE:"
   ]
  },
  {
   "cell_type": "code",
   "execution_count": 52,
   "metadata": {},
   "outputs": [],
   "source": [
    "to_use =['created_at', 'id', 'retweet_count', 'favorite_count']\n",
    "\n",
    "tj_final= tj_copy[to_use]"
   ]
  },
  {
   "cell_type": "markdown",
   "metadata": {},
   "source": [
    "TEST: Take a look at the cleaned dataset"
   ]
  },
  {
   "cell_type": "code",
   "execution_count": 53,
   "metadata": {},
   "outputs": [
    {
     "data": {
      "text/html": [
       "<div>\n",
       "<style scoped>\n",
       "    .dataframe tbody tr th:only-of-type {\n",
       "        vertical-align: middle;\n",
       "    }\n",
       "\n",
       "    .dataframe tbody tr th {\n",
       "        vertical-align: top;\n",
       "    }\n",
       "\n",
       "    .dataframe thead th {\n",
       "        text-align: right;\n",
       "    }\n",
       "</style>\n",
       "<table border=\"1\" class=\"dataframe\">\n",
       "  <thead>\n",
       "    <tr style=\"text-align: right;\">\n",
       "      <th></th>\n",
       "      <th>created_at</th>\n",
       "      <th>id</th>\n",
       "      <th>retweet_count</th>\n",
       "      <th>favorite_count</th>\n",
       "    </tr>\n",
       "  </thead>\n",
       "  <tbody>\n",
       "    <tr>\n",
       "      <th>0</th>\n",
       "      <td>2017-08-01</td>\n",
       "      <td>892420643555336193</td>\n",
       "      <td>8853</td>\n",
       "      <td>39467</td>\n",
       "    </tr>\n",
       "    <tr>\n",
       "      <th>1</th>\n",
       "      <td>2017-08-01</td>\n",
       "      <td>892177421306343426</td>\n",
       "      <td>6514</td>\n",
       "      <td>33819</td>\n",
       "    </tr>\n",
       "    <tr>\n",
       "      <th>2</th>\n",
       "      <td>2017-07-31</td>\n",
       "      <td>891815181378084864</td>\n",
       "      <td>4328</td>\n",
       "      <td>25461</td>\n",
       "    </tr>\n",
       "    <tr>\n",
       "      <th>3</th>\n",
       "      <td>2017-07-30</td>\n",
       "      <td>891689557279858688</td>\n",
       "      <td>8964</td>\n",
       "      <td>42908</td>\n",
       "    </tr>\n",
       "    <tr>\n",
       "      <th>4</th>\n",
       "      <td>2017-07-29</td>\n",
       "      <td>891327558926688256</td>\n",
       "      <td>9774</td>\n",
       "      <td>41048</td>\n",
       "    </tr>\n",
       "  </tbody>\n",
       "</table>\n",
       "</div>"
      ],
      "text/plain": [
       "  created_at                  id  retweet_count  favorite_count\n",
       "0 2017-08-01  892420643555336193           8853           39467\n",
       "1 2017-08-01  892177421306343426           6514           33819\n",
       "2 2017-07-31  891815181378084864           4328           25461\n",
       "3 2017-07-30  891689557279858688           8964           42908\n",
       "4 2017-07-29  891327558926688256           9774           41048"
      ]
     },
     "execution_count": 53,
     "metadata": {},
     "output_type": "execute_result"
    }
   ],
   "source": [
    "tj_final.head()"
   ]
  },
  {
   "cell_type": "markdown",
   "metadata": {},
   "source": [
    "Data 3: Image Predictions(ip)"
   ]
  },
  {
   "cell_type": "code",
   "execution_count": 54,
   "metadata": {},
   "outputs": [],
   "source": [
    "#make a copy of the data \n",
    "ip_copy = ip.copy()"
   ]
  },
  {
   "cell_type": "markdown",
   "metadata": {},
   "source": [
    "# 9"
   ]
  },
  {
   "cell_type": "markdown",
   "metadata": {},
   "source": [
    "DEFINE: Change the datatype of tweet_id to string and img_num to category"
   ]
  },
  {
   "cell_type": "markdown",
   "metadata": {},
   "source": [
    "CODE: "
   ]
  },
  {
   "cell_type": "code",
   "execution_count": 55,
   "metadata": {},
   "outputs": [],
   "source": [
    "#convert the datatype of tweet_id to string\n",
    "ip_copy.tweet_id = ip_copy.tweet_id.astype(str)"
   ]
  },
  {
   "cell_type": "code",
   "execution_count": 56,
   "metadata": {},
   "outputs": [],
   "source": [
    "#convert \n",
    "ip_copy.img_num = ip_copy.img_num.astype('category')"
   ]
  },
  {
   "cell_type": "markdown",
   "metadata": {},
   "source": [
    "TEST:"
   ]
  },
  {
   "cell_type": "code",
   "execution_count": 57,
   "metadata": {},
   "outputs": [
    {
     "name": "stdout",
     "output_type": "stream",
     "text": [
      "<class 'pandas.core.frame.DataFrame'>\n",
      "RangeIndex: 2075 entries, 0 to 2074\n",
      "Data columns (total 12 columns):\n",
      " #   Column    Non-Null Count  Dtype   \n",
      "---  ------    --------------  -----   \n",
      " 0   tweet_id  2075 non-null   object  \n",
      " 1   jpg_url   2075 non-null   object  \n",
      " 2   img_num   2075 non-null   category\n",
      " 3   p1        2075 non-null   object  \n",
      " 4   p1_conf   2075 non-null   float64 \n",
      " 5   p1_dog    2075 non-null   bool    \n",
      " 6   p2        2075 non-null   object  \n",
      " 7   p2_conf   2075 non-null   float64 \n",
      " 8   p2_dog    2075 non-null   bool    \n",
      " 9   p3        2075 non-null   object  \n",
      " 10  p3_conf   2075 non-null   float64 \n",
      " 11  p3_dog    2075 non-null   bool    \n",
      "dtypes: bool(3), category(1), float64(3), object(5)\n",
      "memory usage: 138.1+ KB\n"
     ]
    }
   ],
   "source": [
    "ip_copy.info()"
   ]
  },
  {
   "cell_type": "code",
   "execution_count": 58,
   "metadata": {},
   "outputs": [
    {
     "data": {
      "text/html": [
       "<div>\n",
       "<style scoped>\n",
       "    .dataframe tbody tr th:only-of-type {\n",
       "        vertical-align: middle;\n",
       "    }\n",
       "\n",
       "    .dataframe tbody tr th {\n",
       "        vertical-align: top;\n",
       "    }\n",
       "\n",
       "    .dataframe thead th {\n",
       "        text-align: right;\n",
       "    }\n",
       "</style>\n",
       "<table border=\"1\" class=\"dataframe\">\n",
       "  <thead>\n",
       "    <tr style=\"text-align: right;\">\n",
       "      <th></th>\n",
       "      <th>tweet_id</th>\n",
       "      <th>jpg_url</th>\n",
       "      <th>img_num</th>\n",
       "      <th>p1</th>\n",
       "      <th>p1_conf</th>\n",
       "      <th>p1_dog</th>\n",
       "      <th>p2</th>\n",
       "      <th>p2_conf</th>\n",
       "      <th>p2_dog</th>\n",
       "      <th>p3</th>\n",
       "      <th>p3_conf</th>\n",
       "      <th>p3_dog</th>\n",
       "    </tr>\n",
       "  </thead>\n",
       "  <tbody>\n",
       "    <tr>\n",
       "      <th>0</th>\n",
       "      <td>666020888022790149</td>\n",
       "      <td>https://pbs.twimg.com/media/CT4udn0WwAA0aMy.jpg</td>\n",
       "      <td>1</td>\n",
       "      <td>Welsh_springer_spaniel</td>\n",
       "      <td>0.465074</td>\n",
       "      <td>True</td>\n",
       "      <td>collie</td>\n",
       "      <td>0.156665</td>\n",
       "      <td>True</td>\n",
       "      <td>Shetland_sheepdog</td>\n",
       "      <td>0.061428</td>\n",
       "      <td>True</td>\n",
       "    </tr>\n",
       "    <tr>\n",
       "      <th>1</th>\n",
       "      <td>666029285002620928</td>\n",
       "      <td>https://pbs.twimg.com/media/CT42GRgUYAA5iDo.jpg</td>\n",
       "      <td>1</td>\n",
       "      <td>redbone</td>\n",
       "      <td>0.506826</td>\n",
       "      <td>True</td>\n",
       "      <td>miniature_pinscher</td>\n",
       "      <td>0.074192</td>\n",
       "      <td>True</td>\n",
       "      <td>Rhodesian_ridgeback</td>\n",
       "      <td>0.072010</td>\n",
       "      <td>True</td>\n",
       "    </tr>\n",
       "    <tr>\n",
       "      <th>2</th>\n",
       "      <td>666033412701032449</td>\n",
       "      <td>https://pbs.twimg.com/media/CT4521TWwAEvMyu.jpg</td>\n",
       "      <td>1</td>\n",
       "      <td>German_shepherd</td>\n",
       "      <td>0.596461</td>\n",
       "      <td>True</td>\n",
       "      <td>malinois</td>\n",
       "      <td>0.138584</td>\n",
       "      <td>True</td>\n",
       "      <td>bloodhound</td>\n",
       "      <td>0.116197</td>\n",
       "      <td>True</td>\n",
       "    </tr>\n",
       "    <tr>\n",
       "      <th>3</th>\n",
       "      <td>666044226329800704</td>\n",
       "      <td>https://pbs.twimg.com/media/CT5Dr8HUEAA-lEu.jpg</td>\n",
       "      <td>1</td>\n",
       "      <td>Rhodesian_ridgeback</td>\n",
       "      <td>0.408143</td>\n",
       "      <td>True</td>\n",
       "      <td>redbone</td>\n",
       "      <td>0.360687</td>\n",
       "      <td>True</td>\n",
       "      <td>miniature_pinscher</td>\n",
       "      <td>0.222752</td>\n",
       "      <td>True</td>\n",
       "    </tr>\n",
       "    <tr>\n",
       "      <th>4</th>\n",
       "      <td>666049248165822465</td>\n",
       "      <td>https://pbs.twimg.com/media/CT5IQmsXIAAKY4A.jpg</td>\n",
       "      <td>1</td>\n",
       "      <td>miniature_pinscher</td>\n",
       "      <td>0.560311</td>\n",
       "      <td>True</td>\n",
       "      <td>Rottweiler</td>\n",
       "      <td>0.243682</td>\n",
       "      <td>True</td>\n",
       "      <td>Doberman</td>\n",
       "      <td>0.154629</td>\n",
       "      <td>True</td>\n",
       "    </tr>\n",
       "  </tbody>\n",
       "</table>\n",
       "</div>"
      ],
      "text/plain": [
       "             tweet_id                                          jpg_url  \\\n",
       "0  666020888022790149  https://pbs.twimg.com/media/CT4udn0WwAA0aMy.jpg   \n",
       "1  666029285002620928  https://pbs.twimg.com/media/CT42GRgUYAA5iDo.jpg   \n",
       "2  666033412701032449  https://pbs.twimg.com/media/CT4521TWwAEvMyu.jpg   \n",
       "3  666044226329800704  https://pbs.twimg.com/media/CT5Dr8HUEAA-lEu.jpg   \n",
       "4  666049248165822465  https://pbs.twimg.com/media/CT5IQmsXIAAKY4A.jpg   \n",
       "\n",
       "  img_num                      p1   p1_conf  p1_dog                  p2  \\\n",
       "0       1  Welsh_springer_spaniel  0.465074    True              collie   \n",
       "1       1                 redbone  0.506826    True  miniature_pinscher   \n",
       "2       1         German_shepherd  0.596461    True            malinois   \n",
       "3       1     Rhodesian_ridgeback  0.408143    True             redbone   \n",
       "4       1      miniature_pinscher  0.560311    True          Rottweiler   \n",
       "\n",
       "    p2_conf  p2_dog                   p3   p3_conf  p3_dog  \n",
       "0  0.156665    True    Shetland_sheepdog  0.061428    True  \n",
       "1  0.074192    True  Rhodesian_ridgeback  0.072010    True  \n",
       "2  0.138584    True           bloodhound  0.116197    True  \n",
       "3  0.360687    True   miniature_pinscher  0.222752    True  \n",
       "4  0.243682    True             Doberman  0.154629    True  "
      ]
     },
     "execution_count": 58,
     "metadata": {},
     "output_type": "execute_result"
    }
   ],
   "source": [
    "ip_copy.head()"
   ]
  },
  {
   "cell_type": "markdown",
   "metadata": {},
   "source": [
    "# 10"
   ]
  },
  {
   "cell_type": "markdown",
   "metadata": {},
   "source": [
    "DEFINE: Rename columns"
   ]
  },
  {
   "cell_type": "markdown",
   "metadata": {},
   "source": [
    "CODE:"
   ]
  },
  {
   "cell_type": "code",
   "execution_count": 59,
   "metadata": {},
   "outputs": [],
   "source": [
    "ip_copy.rename(columns = {'img_num':'no_of_images',\n",
    "                          'p1_conf': '1st_confidence',\n",
    "                          'p2_conf': '2nd_confidence',\n",
    "                          'p3_conf': '3rd_confidence'}\n",
    "              ,inplace=True)"
   ]
  },
  {
   "cell_type": "markdown",
   "metadata": {},
   "source": [
    "TEST:"
   ]
  },
  {
   "cell_type": "code",
   "execution_count": 60,
   "metadata": {},
   "outputs": [
    {
     "name": "stdout",
     "output_type": "stream",
     "text": [
      "<class 'pandas.core.frame.DataFrame'>\n",
      "RangeIndex: 2075 entries, 0 to 2074\n",
      "Data columns (total 12 columns):\n",
      " #   Column          Non-Null Count  Dtype   \n",
      "---  ------          --------------  -----   \n",
      " 0   tweet_id        2075 non-null   object  \n",
      " 1   jpg_url         2075 non-null   object  \n",
      " 2   no_of_images    2075 non-null   category\n",
      " 3   p1              2075 non-null   object  \n",
      " 4   1st_confidence  2075 non-null   float64 \n",
      " 5   p1_dog          2075 non-null   bool    \n",
      " 6   p2              2075 non-null   object  \n",
      " 7   2nd_confidence  2075 non-null   float64 \n",
      " 8   p2_dog          2075 non-null   bool    \n",
      " 9   p3              2075 non-null   object  \n",
      " 10  3rd_confidence  2075 non-null   float64 \n",
      " 11  p3_dog          2075 non-null   bool    \n",
      "dtypes: bool(3), category(1), float64(3), object(5)\n",
      "memory usage: 138.1+ KB\n"
     ]
    }
   ],
   "source": [
    "ip_copy.info()"
   ]
  },
  {
   "cell_type": "code",
   "execution_count": 61,
   "metadata": {},
   "outputs": [
    {
     "data": {
      "text/html": [
       "<div>\n",
       "<style scoped>\n",
       "    .dataframe tbody tr th:only-of-type {\n",
       "        vertical-align: middle;\n",
       "    }\n",
       "\n",
       "    .dataframe tbody tr th {\n",
       "        vertical-align: top;\n",
       "    }\n",
       "\n",
       "    .dataframe thead th {\n",
       "        text-align: right;\n",
       "    }\n",
       "</style>\n",
       "<table border=\"1\" class=\"dataframe\">\n",
       "  <thead>\n",
       "    <tr style=\"text-align: right;\">\n",
       "      <th></th>\n",
       "      <th>tweet_id</th>\n",
       "      <th>jpg_url</th>\n",
       "      <th>img_num</th>\n",
       "      <th>p1</th>\n",
       "      <th>p1_conf</th>\n",
       "      <th>p1_dog</th>\n",
       "      <th>p2</th>\n",
       "      <th>p2_conf</th>\n",
       "      <th>p2_dog</th>\n",
       "      <th>p3</th>\n",
       "      <th>p3_conf</th>\n",
       "      <th>p3_dog</th>\n",
       "    </tr>\n",
       "  </thead>\n",
       "  <tbody>\n",
       "    <tr>\n",
       "      <th>1166</th>\n",
       "      <td>735635087207878657</td>\n",
       "      <td>https://pbs.twimg.com/media/CjWANBlVAAAaN-a.jpg</td>\n",
       "      <td>1</td>\n",
       "      <td>pug</td>\n",
       "      <td>0.891871</td>\n",
       "      <td>True</td>\n",
       "      <td>goose</td>\n",
       "      <td>0.014377</td>\n",
       "      <td>False</td>\n",
       "      <td>fur_coat</td>\n",
       "      <td>0.008451</td>\n",
       "      <td>False</td>\n",
       "    </tr>\n",
       "    <tr>\n",
       "      <th>1384</th>\n",
       "      <td>765719909049503744</td>\n",
       "      <td>https://pbs.twimg.com/media/CqBiMAgWAAEJKgI.jpg</td>\n",
       "      <td>1</td>\n",
       "      <td>golden_retriever</td>\n",
       "      <td>0.969518</td>\n",
       "      <td>True</td>\n",
       "      <td>Labrador_retriever</td>\n",
       "      <td>0.021696</td>\n",
       "      <td>True</td>\n",
       "      <td>Border_terrier</td>\n",
       "      <td>0.002075</td>\n",
       "      <td>True</td>\n",
       "    </tr>\n",
       "    <tr>\n",
       "      <th>502</th>\n",
       "      <td>675870721063669760</td>\n",
       "      <td>https://pbs.twimg.com/media/CWEs1b-WEAEhq82.jpg</td>\n",
       "      <td>1</td>\n",
       "      <td>golden_retriever</td>\n",
       "      <td>0.263892</td>\n",
       "      <td>True</td>\n",
       "      <td>Welsh_springer_spaniel</td>\n",
       "      <td>0.184193</td>\n",
       "      <td>True</td>\n",
       "      <td>beagle</td>\n",
       "      <td>0.182241</td>\n",
       "      <td>True</td>\n",
       "    </tr>\n",
       "    <tr>\n",
       "      <th>159</th>\n",
       "      <td>668892474547511297</td>\n",
       "      <td>https://pbs.twimg.com/media/CUhiJ63WEAAw2qm.jpg</td>\n",
       "      <td>1</td>\n",
       "      <td>kelpie</td>\n",
       "      <td>0.421979</td>\n",
       "      <td>True</td>\n",
       "      <td>collie</td>\n",
       "      <td>0.227060</td>\n",
       "      <td>True</td>\n",
       "      <td>Cardigan</td>\n",
       "      <td>0.168211</td>\n",
       "      <td>True</td>\n",
       "    </tr>\n",
       "    <tr>\n",
       "      <th>465</th>\n",
       "      <td>675006312288268288</td>\n",
       "      <td>https://pbs.twimg.com/media/CV4aqCwWsAIi3OP.jpg</td>\n",
       "      <td>1</td>\n",
       "      <td>boxer</td>\n",
       "      <td>0.654697</td>\n",
       "      <td>True</td>\n",
       "      <td>space_heater</td>\n",
       "      <td>0.043389</td>\n",
       "      <td>False</td>\n",
       "      <td>beagle</td>\n",
       "      <td>0.042848</td>\n",
       "      <td>True</td>\n",
       "    </tr>\n",
       "  </tbody>\n",
       "</table>\n",
       "</div>"
      ],
      "text/plain": [
       "                tweet_id                                          jpg_url  \\\n",
       "1166  735635087207878657  https://pbs.twimg.com/media/CjWANBlVAAAaN-a.jpg   \n",
       "1384  765719909049503744  https://pbs.twimg.com/media/CqBiMAgWAAEJKgI.jpg   \n",
       "502   675870721063669760  https://pbs.twimg.com/media/CWEs1b-WEAEhq82.jpg   \n",
       "159   668892474547511297  https://pbs.twimg.com/media/CUhiJ63WEAAw2qm.jpg   \n",
       "465   675006312288268288  https://pbs.twimg.com/media/CV4aqCwWsAIi3OP.jpg   \n",
       "\n",
       "      img_num                p1   p1_conf  p1_dog                      p2  \\\n",
       "1166        1               pug  0.891871    True                   goose   \n",
       "1384        1  golden_retriever  0.969518    True      Labrador_retriever   \n",
       "502         1  golden_retriever  0.263892    True  Welsh_springer_spaniel   \n",
       "159         1            kelpie  0.421979    True                  collie   \n",
       "465         1             boxer  0.654697    True            space_heater   \n",
       "\n",
       "       p2_conf  p2_dog              p3   p3_conf  p3_dog  \n",
       "1166  0.014377   False        fur_coat  0.008451   False  \n",
       "1384  0.021696    True  Border_terrier  0.002075    True  \n",
       "502   0.184193    True          beagle  0.182241    True  \n",
       "159   0.227060    True        Cardigan  0.168211    True  \n",
       "465   0.043389   False          beagle  0.042848    True  "
      ]
     },
     "execution_count": 61,
     "metadata": {},
     "output_type": "execute_result"
    }
   ],
   "source": [
    "ip.sample(5)"
   ]
  },
  {
   "cell_type": "markdown",
   "metadata": {},
   "source": [
    "Merge all the three datasets"
   ]
  },
  {
   "cell_type": "code",
   "execution_count": 62,
   "metadata": {},
   "outputs": [],
   "source": [
    "#merge ta_final and tj_final first, then merge the resulting dataframe with ip_copy\n",
    "ta_tj = ta_final.merge(tj_final,how='inner',left_on='tweet_id',right_on='id')\n",
    "final = ta_tj.merge(ip_copy, how = 'inner', left_on = 'tweet_id', right_on='tweet_id')"
   ]
  },
  {
   "cell_type": "code",
   "execution_count": 63,
   "metadata": {},
   "outputs": [
    {
     "name": "stdout",
     "output_type": "stream",
     "text": [
      "<class 'pandas.core.frame.DataFrame'>\n",
      "Int64Index: 2311 entries, 0 to 2310\n",
      "Data columns (total 23 columns):\n",
      " #   Column              Non-Null Count  Dtype         \n",
      "---  ------              --------------  -----         \n",
      " 0   tweet_id            2311 non-null   object        \n",
      " 1   source              2311 non-null   object        \n",
      " 2   text                2311 non-null   object        \n",
      " 3   rating_numerator    2311 non-null   int64         \n",
      " 4   rating_denominator  2311 non-null   int64         \n",
      " 5   name                2311 non-null   object        \n",
      " 6   date                2311 non-null   datetime64[ns]\n",
      " 7   stage               317 non-null    object        \n",
      " 8   created_at          2311 non-null   datetime64[ns]\n",
      " 9   id                  2311 non-null   object        \n",
      " 10  retweet_count       2311 non-null   int64         \n",
      " 11  favorite_count      2311 non-null   int64         \n",
      " 12  jpg_url             2311 non-null   object        \n",
      " 13  no_of_images        2311 non-null   category      \n",
      " 14  p1                  2311 non-null   object        \n",
      " 15  1st_confidence      2311 non-null   float64       \n",
      " 16  p1_dog              2311 non-null   bool          \n",
      " 17  p2                  2311 non-null   object        \n",
      " 18  2nd_confidence      2311 non-null   float64       \n",
      " 19  p2_dog              2311 non-null   bool          \n",
      " 20  p3                  2311 non-null   object        \n",
      " 21  3rd_confidence      2311 non-null   float64       \n",
      " 22  p3_dog              2311 non-null   bool          \n",
      "dtypes: bool(3), category(1), datetime64[ns](2), float64(3), int64(4), object(10)\n",
      "memory usage: 370.3+ KB\n"
     ]
    }
   ],
   "source": [
    "final.info()"
   ]
  },
  {
   "cell_type": "code",
   "execution_count": 64,
   "metadata": {},
   "outputs": [],
   "source": [
    "#save final to csv\n",
    "final.to_csv('twitter_archive_master.csv')"
   ]
  },
  {
   "cell_type": "markdown",
   "metadata": {},
   "source": [
    "# Reporting"
   ]
  },
  {
   "cell_type": "code",
   "execution_count": 65,
   "metadata": {},
   "outputs": [
    {
     "data": {
      "text/html": [
       "<div>\n",
       "<style scoped>\n",
       "    .dataframe tbody tr th:only-of-type {\n",
       "        vertical-align: middle;\n",
       "    }\n",
       "\n",
       "    .dataframe tbody tr th {\n",
       "        vertical-align: top;\n",
       "    }\n",
       "\n",
       "    .dataframe thead th {\n",
       "        text-align: right;\n",
       "    }\n",
       "</style>\n",
       "<table border=\"1\" class=\"dataframe\">\n",
       "  <thead>\n",
       "    <tr style=\"text-align: right;\">\n",
       "      <th></th>\n",
       "      <th>tweet_id</th>\n",
       "      <th>source</th>\n",
       "      <th>text</th>\n",
       "      <th>rating_numerator</th>\n",
       "      <th>rating_denominator</th>\n",
       "      <th>name</th>\n",
       "      <th>date</th>\n",
       "      <th>stage</th>\n",
       "      <th>created_at</th>\n",
       "      <th>id</th>\n",
       "      <th>...</th>\n",
       "      <th>no_of_images</th>\n",
       "      <th>p1</th>\n",
       "      <th>1st_confidence</th>\n",
       "      <th>p1_dog</th>\n",
       "      <th>p2</th>\n",
       "      <th>2nd_confidence</th>\n",
       "      <th>p2_dog</th>\n",
       "      <th>p3</th>\n",
       "      <th>3rd_confidence</th>\n",
       "      <th>p3_dog</th>\n",
       "    </tr>\n",
       "  </thead>\n",
       "  <tbody>\n",
       "    <tr>\n",
       "      <th>1999</th>\n",
       "      <td>671561002136281088</td>\n",
       "      <td>&lt;a href=\"http://twitter.com/download/iphone\" r...</td>\n",
       "      <td>This is the best thing I've ever seen so sprea...</td>\n",
       "      <td>13</td>\n",
       "      <td>10</td>\n",
       "      <td>671561002136281088</td>\n",
       "      <td>2015-12-01</td>\n",
       "      <td>NaN</td>\n",
       "      <td>2015-12-01</td>\n",
       "      <td>671561002136281088</td>\n",
       "      <td>...</td>\n",
       "      <td>1</td>\n",
       "      <td>Gordon_setter</td>\n",
       "      <td>0.469373</td>\n",
       "      <td>True</td>\n",
       "      <td>black-and-tan_coonhound</td>\n",
       "      <td>0.270893</td>\n",
       "      <td>True</td>\n",
       "      <td>Rottweiler</td>\n",
       "      <td>0.153233</td>\n",
       "      <td>True</td>\n",
       "    </tr>\n",
       "    <tr>\n",
       "      <th>1262</th>\n",
       "      <td>703041949650034688</td>\n",
       "      <td>&lt;a href=\"http://twitter.com/download/iphone\" r...</td>\n",
       "      <td>This is an East African Chalupa Seal. We only ...</td>\n",
       "      <td>10</td>\n",
       "      <td>10</td>\n",
       "      <td>703041949650034688</td>\n",
       "      <td>2016-02-26</td>\n",
       "      <td>NaN</td>\n",
       "      <td>2016-02-26</td>\n",
       "      <td>703041949650034688</td>\n",
       "      <td>...</td>\n",
       "      <td>1</td>\n",
       "      <td>hippopotamus</td>\n",
       "      <td>0.581403</td>\n",
       "      <td>False</td>\n",
       "      <td>doormat</td>\n",
       "      <td>0.152445</td>\n",
       "      <td>False</td>\n",
       "      <td>sea_lion</td>\n",
       "      <td>0.026364</td>\n",
       "      <td>False</td>\n",
       "    </tr>\n",
       "    <tr>\n",
       "      <th>1165</th>\n",
       "      <td>709566166965075968</td>\n",
       "      <td>&lt;a href=\"http://twitter.com/download/iphone\" r...</td>\n",
       "      <td>This is Olaf. He's gotta be rare. Seems sturdy...</td>\n",
       "      <td>12</td>\n",
       "      <td>10</td>\n",
       "      <td>709566166965075968</td>\n",
       "      <td>2016-03-15</td>\n",
       "      <td>NaN</td>\n",
       "      <td>2016-03-15</td>\n",
       "      <td>709566166965075968</td>\n",
       "      <td>...</td>\n",
       "      <td>1</td>\n",
       "      <td>chow</td>\n",
       "      <td>0.999837</td>\n",
       "      <td>True</td>\n",
       "      <td>Tibetan_mastiff</td>\n",
       "      <td>0.000117</td>\n",
       "      <td>True</td>\n",
       "      <td>Australian_terrier</td>\n",
       "      <td>0.000011</td>\n",
       "      <td>True</td>\n",
       "    </tr>\n",
       "    <tr>\n",
       "      <th>582</th>\n",
       "      <td>789268448748703744</td>\n",
       "      <td>&lt;a href=\"http://twitter.com/download/iphone\" r...</td>\n",
       "      <td>This is Stella. She's happier than I will ever...</td>\n",
       "      <td>10</td>\n",
       "      <td>10</td>\n",
       "      <td>789268448748703744</td>\n",
       "      <td>2016-10-21</td>\n",
       "      <td>NaN</td>\n",
       "      <td>2016-10-21</td>\n",
       "      <td>789268448748703744</td>\n",
       "      <td>...</td>\n",
       "      <td>1</td>\n",
       "      <td>malamute</td>\n",
       "      <td>0.812860</td>\n",
       "      <td>True</td>\n",
       "      <td>Siberian_husky</td>\n",
       "      <td>0.120853</td>\n",
       "      <td>True</td>\n",
       "      <td>Eskimo_dog</td>\n",
       "      <td>0.024269</td>\n",
       "      <td>True</td>\n",
       "    </tr>\n",
       "    <tr>\n",
       "      <th>1975</th>\n",
       "      <td>672205392827572224</td>\n",
       "      <td>&lt;a href=\"http://twitter.com/download/iphone\" r...</td>\n",
       "      <td>This is Opal. He's a Royal John Coctostan. Rea...</td>\n",
       "      <td>9</td>\n",
       "      <td>10</td>\n",
       "      <td>672205392827572224</td>\n",
       "      <td>2015-12-03</td>\n",
       "      <td>NaN</td>\n",
       "      <td>2015-12-03</td>\n",
       "      <td>672205392827572224</td>\n",
       "      <td>...</td>\n",
       "      <td>1</td>\n",
       "      <td>carton</td>\n",
       "      <td>0.952613</td>\n",
       "      <td>False</td>\n",
       "      <td>crate</td>\n",
       "      <td>0.035376</td>\n",
       "      <td>False</td>\n",
       "      <td>pug</td>\n",
       "      <td>0.003267</td>\n",
       "      <td>True</td>\n",
       "    </tr>\n",
       "  </tbody>\n",
       "</table>\n",
       "<p>5 rows × 23 columns</p>\n",
       "</div>"
      ],
      "text/plain": [
       "                tweet_id                                             source  \\\n",
       "1999  671561002136281088  <a href=\"http://twitter.com/download/iphone\" r...   \n",
       "1262  703041949650034688  <a href=\"http://twitter.com/download/iphone\" r...   \n",
       "1165  709566166965075968  <a href=\"http://twitter.com/download/iphone\" r...   \n",
       "582   789268448748703744  <a href=\"http://twitter.com/download/iphone\" r...   \n",
       "1975  672205392827572224  <a href=\"http://twitter.com/download/iphone\" r...   \n",
       "\n",
       "                                                   text  rating_numerator  \\\n",
       "1999  This is the best thing I've ever seen so sprea...                13   \n",
       "1262  This is an East African Chalupa Seal. We only ...                10   \n",
       "1165  This is Olaf. He's gotta be rare. Seems sturdy...                12   \n",
       "582   This is Stella. She's happier than I will ever...                10   \n",
       "1975  This is Opal. He's a Royal John Coctostan. Rea...                 9   \n",
       "\n",
       "      rating_denominator                name       date stage created_at  \\\n",
       "1999                  10  671561002136281088 2015-12-01   NaN 2015-12-01   \n",
       "1262                  10  703041949650034688 2016-02-26   NaN 2016-02-26   \n",
       "1165                  10  709566166965075968 2016-03-15   NaN 2016-03-15   \n",
       "582                   10  789268448748703744 2016-10-21   NaN 2016-10-21   \n",
       "1975                  10  672205392827572224 2015-12-03   NaN 2015-12-03   \n",
       "\n",
       "                      id  ...  no_of_images             p1 1st_confidence  \\\n",
       "1999  671561002136281088  ...             1  Gordon_setter       0.469373   \n",
       "1262  703041949650034688  ...             1   hippopotamus       0.581403   \n",
       "1165  709566166965075968  ...             1           chow       0.999837   \n",
       "582   789268448748703744  ...             1       malamute       0.812860   \n",
       "1975  672205392827572224  ...             1         carton       0.952613   \n",
       "\n",
       "     p1_dog                       p2  2nd_confidence  p2_dog  \\\n",
       "1999   True  black-and-tan_coonhound        0.270893    True   \n",
       "1262  False                  doormat        0.152445   False   \n",
       "1165   True          Tibetan_mastiff        0.000117    True   \n",
       "582    True           Siberian_husky        0.120853    True   \n",
       "1975  False                    crate        0.035376   False   \n",
       "\n",
       "                      p3  3rd_confidence  p3_dog  \n",
       "1999          Rottweiler        0.153233    True  \n",
       "1262            sea_lion        0.026364   False  \n",
       "1165  Australian_terrier        0.000011    True  \n",
       "582           Eskimo_dog        0.024269    True  \n",
       "1975                 pug        0.003267    True  \n",
       "\n",
       "[5 rows x 23 columns]"
      ]
     },
     "execution_count": 65,
     "metadata": {},
     "output_type": "execute_result"
    }
   ],
   "source": [
    "#another quick look at the data\n",
    "\n",
    "final.sample(5)"
   ]
  },
  {
   "cell_type": "code",
   "execution_count": 66,
   "metadata": {},
   "outputs": [
    {
     "data": {
      "text/plain": [
       "(2311, 23)"
      ]
     },
     "execution_count": 66,
     "metadata": {},
     "output_type": "execute_result"
    }
   ],
   "source": [
    "final.shape"
   ]
  },
  {
   "cell_type": "code",
   "execution_count": 67,
   "metadata": {},
   "outputs": [
    {
     "data": {
      "text/plain": [
       "<AxesSubplot:title={'center':'Tweet Count by Image Number'}, xlabel='Number of Images', ylabel='Count'>"
      ]
     },
     "execution_count": 67,
     "metadata": {},
     "output_type": "execute_result"
    },
    {
     "data": {
      "image/png": "[encoded data removed]",
      "text/plain": [
       "<Figure size 432x288 with 1 Axes>"
      ]
     },
     "metadata": {
      "needs_background": "light"
     },
     "output_type": "display_data"
    }
   ],
   "source": [
    "#show the count per img_num category\n",
    "plot1 = pd.DataFrame()\n",
    "\n",
    "plot1['val'] = list(final.no_of_images.value_counts().values)\n",
    "plot1['img'] = list(final.no_of_images.value_counts().index)\n",
    "\n",
    "plot1.plot.bar(x= 'img', y='val',rot=0, title = 'Tweet Count by Image Number', xlabel='Number of Images', ylabel='Count')"
   ]
  },
  {
   "cell_type": "code",
   "execution_count": 68,
   "metadata": {},
   "outputs": [
    {
     "data": {
      "text/plain": [
       "<AxesSubplot:title={'center':'Monthly Trend of Average Retweet Count'}, xlabel='Month', ylabel='Avg retweet_count'>"
      ]
     },
     "execution_count": 68,
     "metadata": {},
     "output_type": "execute_result"
    },
    {
     "data": {
      "image/png": "[encoded data removed]",
      "text/plain": [
       "<Figure size 432x288 with 1 Axes>"
      ]
     },
     "metadata": {
      "needs_background": "light"
     },
     "output_type": "display_data"
    }
   ],
   "source": [
    "#show the monthly mean favorite count \n",
    "plot2 = pd.DataFrame()\n",
    "\n",
    "#create an additional column 'month' from date\n",
    "final['month'] = final.date.dt.month_name()\n",
    "\n",
    "#create an ordered list for months\n",
    "sort_order = ['January', 'February','March', 'April', 'May', 'June'\n",
    "             ,'July', 'August', 'September', 'October', 'November', 'December']\n",
    "\n",
    "#assign values to month and mean retweet count\n",
    "plot2['month'] = list(final.groupby('month').mean()['retweet_count'].index)\n",
    "plot2['mean_retweet_count'] = list(final.groupby('month').mean()['retweet_count'].values)\n",
    "\n",
    "#reset index \n",
    "plot2.index = pd.CategoricalIndex(plot2['month'], categories=sort_order, ordered =True)\n",
    "plot2 = plot2.sort_index()\n",
    "\n",
    "#plot the monthly  mean retweet count trend\n",
    "plot2.plot.line(x='month', y = 'mean_retweet_count', title='Monthly Trend of Average Retweet Count'\n",
    "                ,xlabel = 'Month', ylabel='Avg retweet_count')"
   ]
  },
  {
   "cell_type": "markdown",
   "metadata": {},
   "source": [
    "Insights:\n",
    "- Majority of the tweet has one image\n",
    "- The average retweet_count has the highest value in June\n",
    "- November has the least average  retweet_count"
   ]
  }
 ],
 "metadata": {
  "kernelspec": {
   "display_name": "Python 3",
   "language": "python",
   "name": "python3"
  },
  "language_info": {
   "codemirror_mode": {
    "name": "ipython",
    "version": 3
   },
   "file_extension": ".py",
   "mimetype": "text/x-python",
   "name": "python",
   "nbconvert_exporter": "python",
   "pygments_lexer": "ipython3",
   "version": "3.8.5"
  }
 },
 "nbformat": 4,
 "nbformat_minor": 4
}
